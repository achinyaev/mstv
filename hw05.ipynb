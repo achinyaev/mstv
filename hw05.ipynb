{
 "cells": [
  {
   "cell_type": "markdown",
   "id": "continued-craps",
   "metadata": {},
   "source": [
    "### Домашнее задание №5 ###"
   ]
  },
  {
   "cell_type": "markdown",
   "id": "challenging-london",
   "metadata": {},
   "source": [
    "**Проверка статистических гипотез. P-значения. Доверительные интервалы. A/B-тестирование**"
   ]
  },
  {
   "cell_type": "markdown",
   "id": "statistical-offer",
   "metadata": {},
   "source": [
    "**1. Известно, что генеральная совокупность распределена нормально со средним квадратическим отклонением, равным 16. Найти доверительный интервал для оценки математического ожидания с надежностью 0.95, если выборочная средняя M = 80, а объем выборки n = 256**"
   ]
  },
  {
   "cell_type": "markdown",
   "id": "twelve-slovakia",
   "metadata": {},
   "source": [
    "Имеем по условию задачи:<br>\n",
    "$\\sigma = 16$<br>\n",
    "$M = 80$<br>\n",
    "$n = 256$"
   ]
  },
  {
   "cell_type": "markdown",
   "id": "arranged-hughes",
   "metadata": {},
   "source": [
    "$p = 1-\\alpha = 0,95$ соответсвенно получается $\\alpha = 0,05$"
   ]
  },
  {
   "cell_type": "markdown",
   "id": "eight-vaccine",
   "metadata": {},
   "source": [
    "Нижняя и верхняя границы доверительного интервала: $T_{1,2} = \\overline{X} \\pm Z_{\\frac{\\alpha}{2}} \\cdot \\frac{\\sigma}{\\sqrt{n}}$"
   ]
  },
  {
   "cell_type": "markdown",
   "id": "convenient-bibliography",
   "metadata": {},
   "source": [
    "Если известно среднее квадратическое отклонение генеральной совокупности, то используем Z-критерий."
   ]
  },
  {
   "cell_type": "markdown",
   "id": "postal-package",
   "metadata": {},
   "source": [
    "Согласно Z-таблице:"
   ]
  },
  {
   "cell_type": "code",
   "execution_count": null,
   "id": "toxic-pursuit",
   "metadata": {},
   "outputs": [],
   "source": []
  }
 ],
 "metadata": {
  "kernelspec": {
   "display_name": "Python 3",
   "language": "python",
   "name": "python3"
  },
  "language_info": {
   "codemirror_mode": {
    "name": "ipython",
    "version": 3
   },
   "file_extension": ".py",
   "mimetype": "text/x-python",
   "name": "python",
   "nbconvert_exporter": "python",
   "pygments_lexer": "ipython3",
   "version": "3.8.5"
  }
 },
 "nbformat": 4,
 "nbformat_minor": 5
}
