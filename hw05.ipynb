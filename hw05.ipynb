{
 "cells": [
  {
   "cell_type": "markdown",
   "id": "challenging-tractor",
   "metadata": {},
   "source": [
    "### Домашнее задание №5 ###"
   ]
  },
  {
   "cell_type": "markdown",
   "id": "tight-wrong",
   "metadata": {},
   "source": [
    "**Проверка статистических гипотез. P-значения. Доверительные интервалы. A/B-тестирование**"
   ]
  },
  {
   "cell_type": "markdown",
   "id": "alive-acting",
   "metadata": {},
   "source": [
    "**1. Известно, что генеральная совокупность распределена нормально со средним квадратическим отклонением, равным 16. Найти доверительный интервал для оценки математического ожидания с надежностью 0.95, если выборочная средняя M = 80, а объем выборки n = 256**"
   ]
  },
  {
   "cell_type": "markdown",
   "id": "headed-traveler",
   "metadata": {},
   "source": [
    "Имеем по условию задачи:<br>\n",
    "$\\sigma = 16$<br>\n",
    "$M = 80$<br>\n",
    "$n = 256$"
   ]
  },
  {
   "cell_type": "markdown",
   "id": "regulation-bench",
   "metadata": {},
   "source": [
    "$p = 1-\\alpha = 0,95$ соответсвенно получается $\\alpha = 0,05$"
   ]
  },
  {
   "cell_type": "markdown",
   "id": "infinite-television",
   "metadata": {},
   "source": [
    "Нижняя и верхняя границы доверительного интервала: $T_{1,2} = \\overline{X} \\pm Z_{\\frac{\\alpha}{2}} \\cdot \\frac{\\sigma}{\\sqrt{n}}$"
   ]
  },
  {
   "cell_type": "markdown",
   "id": "objective-rhythm",
   "metadata": {},
   "source": [
    "Если известно среднее квадратическое отклонение генеральной совокупности, то используем Z-критерий."
   ]
  },
  {
   "cell_type": "markdown",
   "id": "devoted-discipline",
   "metadata": {},
   "source": [
    "Согласно Z-таблице:"
   ]
  },
  {
   "cell_type": "markdown",
   "id": "existing-algeria",
   "metadata": {},
   "source": [
    "### $Z_{\\frac{a}{2}} = Z_{0,025} = -1.96$"
   ]
  },
  {
   "cell_type": "markdown",
   "id": "disabled-service",
   "metadata": {},
   "source": [
    "Расчитаем оп формуле доверительный интервал:<br>\n",
    "$T_{1,2} = 80 \\pm 1,96 \\cdot \\frac{16}{\\sqrt{256}} = 80 \\pm 1,96 $<br>\n",
    "$T_{1} = 80 - 1,96 = 78,04$ <br>\n",
    "$T_{2} = 80 + 1,96 = 81,96$ <br>\n"
   ]
  },
  {
   "cell_type": "markdown",
   "id": "alive-preference",
   "metadata": {},
   "source": [
    "***Ответ: $T_{1} = 78,04$; $T_{2} = 81,96$ <br>***"
   ]
  },
  {
   "cell_type": "markdown",
   "id": "accepting-italic",
   "metadata": {},
   "source": [
    "**2. В результате 10 независимых измерений некоторой величины X, выполненных с одинаковой точностью, получены опытные данные: 6.9, 6.1, 6.2, 6.8, 7.5, 6.3, 6.4, 6.9, 6.7, 6.1. Предполагая, что результаты измерений подчинены нормальному закону распределения вероятностей, оценить истинное значение величины X при помощи доверительного интервала, покрывающего это значение с доверительной вероятностью 0,95.**"
   ]
  },
  {
   "cell_type": "markdown",
   "id": "sonic-chick",
   "metadata": {},
   "source": [
    "Имеем по условию задачи:<br>\n",
    "$n = 10$<br>\n",
    "$p = 1-\\alpha = 0,95$ соответсвенно получается $\\alpha = 0,05$<br>\n",
    "$\\sigma$ у нас не известно то используем формулу $T_{1,2} = \\overline{X}\\pm t_{\\frac{\\alpha}{2}} \\cdot \\frac{\\sigma_{н}}{\\sqrt{n}}$  где $\\sigma_{н}$ - несмещенная"
   ]
  },
  {
   "cell_type": "code",
   "execution_count": 1,
   "id": "fantastic-theme",
   "metadata": {},
   "outputs": [
    {
     "data": {
      "text/plain": [
       "array([6.9, 6.1, 6.2, 6.8, 7.5, 6.3, 6.4, 6.9, 6.7, 6.1])"
      ]
     },
     "execution_count": 1,
     "metadata": {},
     "output_type": "execute_result"
    }
   ],
   "source": [
    "import numpy as np\n",
    "X = np.array([6.9, 6.1, 6.2, 6.8, 7.5, 6.3, 6.4, 6.9, 6.7, 6.1])\n",
    "X"
   ]
  },
  {
   "cell_type": "markdown",
   "id": "steady-continuity",
   "metadata": {},
   "source": [
    "Выборочное среднее арифметическое $\\overline{X}$:"
   ]
  },
  {
   "cell_type": "code",
   "execution_count": 2,
   "id": "massive-device",
   "metadata": {},
   "outputs": [
    {
     "data": {
      "text/plain": [
       "6.590000000000001"
      ]
     },
     "execution_count": 2,
     "metadata": {},
     "output_type": "execute_result"
    }
   ],
   "source": [
    "x = X.mean()\n",
    "x"
   ]
  },
  {
   "cell_type": "markdown",
   "id": "tough-password",
   "metadata": {},
   "source": [
    "Расчитаем не смещенное среднее квадратичное отклонение по выборке 𝑠0 :"
   ]
  },
  {
   "cell_type": "code",
   "execution_count": 3,
   "id": "joined-coordinator",
   "metadata": {},
   "outputs": [
    {
     "data": {
      "text/plain": [
       "0.4508017549014448"
      ]
     },
     "execution_count": 3,
     "metadata": {},
     "output_type": "execute_result"
    }
   ],
   "source": [
    "s0=np.std(X, ddof=1)\n",
    "s0"
   ]
  },
  {
   "cell_type": "markdown",
   "id": "impaired-campbell",
   "metadata": {},
   "source": [
    "Согласно t-таблице, для  𝛼=0,025  и числа степеней свободы равному  𝑛−1=9  значение  𝑡=2,262 <br>"
   ]
  },
  {
   "cell_type": "code",
   "execution_count": 4,
   "id": "blind-click",
   "metadata": {},
   "outputs": [
    {
     "data": {
      "text/plain": [
       "6.267538255912426"
      ]
     },
     "execution_count": 4,
     "metadata": {},
     "output_type": "execute_result"
    }
   ],
   "source": [
    "t1 = x - 2.262*s0/np.sqrt(10)\n",
    "t1"
   ]
  },
  {
   "cell_type": "code",
   "execution_count": 5,
   "id": "adjacent-marker",
   "metadata": {},
   "outputs": [
    {
     "data": {
      "text/plain": [
       "6.912461744087575"
      ]
     },
     "execution_count": 5,
     "metadata": {},
     "output_type": "execute_result"
    }
   ],
   "source": [
    "t2 = x + 2.262*s0/np.sqrt(10)\n",
    "t2"
   ]
  },
  {
   "cell_type": "markdown",
   "id": "opponent-audit",
   "metadata": {},
   "source": [
    "***Ответ: $T_{1}=6.2675$; $T_{2}=6.9125$***"
   ]
  },
  {
   "cell_type": "markdown",
   "id": "australian-costs",
   "metadata": {},
   "source": [
    "**3. Утверждается, что шарики для подшипников, изготовленные автоматическим станком, имеют средний диаметр 17 мм. Используя односторонний критерий с α=0,05, проверить эту гипотезу, если в выборке из n=100 шариков средний диаметр оказался равным 17.5мм, а дисперсия известна и равна 4 кв.мм.**"
   ]
  },
  {
   "cell_type": "markdown",
   "id": "aboriginal-monte",
   "metadata": {},
   "source": [
    "Имеем по условию задачи:<br>\n",
    "$\\mu_0 = 17$<br>\n",
    "$\\mu = 17.5$<br>\n",
    "n=100<br>\n",
    "α=0.05<br>\n",
    "$\\sigma^2=4 кв.мм.$<br>\n",
    "\n"
   ]
  },
  {
   "cell_type": "markdown",
   "id": "noticed-atmosphere",
   "metadata": {},
   "source": [
    "Выдвинем гипотезы:<br>\n",
    "$H_0: \\, \\mu = \\mu_0$<br>\n",
    "$H_1: \\, \\mu > \\mu_0$"
   ]
  },
  {
   "cell_type": "markdown",
   "id": "killing-lighter",
   "metadata": {},
   "source": [
    "Критерий  Z –тест:<br>\n",
    "\n"
   ]
  },
  {
   "cell_type": "markdown",
   "id": "stunning-price",
   "metadata": {},
   "source": [
    "## $Z_н = \\frac{\\overline{X} - \\mu_0}{\\frac{\\sigma}{\\sqrt{n}}}=\\frac{17,5 - 17}{\\frac{\\sqrt{4}}{\\sqrt{100}}} = 2,5$ ##"
   ]
  },
  {
   "cell_type": "markdown",
   "id": "still-chest",
   "metadata": {},
   "source": [
    "Согласно Z-таблице:<br>\n",
    "$Z_T = Z_{0,95} = 1,65$"
   ]
  },
  {
   "cell_type": "markdown",
   "id": "lonely-dutch",
   "metadata": {},
   "source": [
    "Так как $Z_н > Z_T$ то гипотеза $H_0$ не верна"
   ]
  },
  {
   "cell_type": "markdown",
   "id": "quick-abuse",
   "metadata": {},
   "source": [
    "***Ответ: утверждение, что шарики для подшипников, изготовленные автоматическим станком, имеют средний диаметр 17 мм неверно при $\\alpha=0,05$***"
   ]
  },
  {
   "cell_type": "markdown",
   "id": "quantitative-counter",
   "metadata": {},
   "source": [
    "**4. Продавец утверждает, что средний вес пачки печенья составляет 200 г. Из партии извлечена выборка из 10 пачек. Вес каждой пачки составляет: 202, 203, 199, 197, 195, 201, 200, 204, 194, 190. Известно, что их веса распределены нормально. Верно ли утверждение продавца, если учитывать, что доверительная вероятность равна 99%?**"
   ]
  },
  {
   "cell_type": "markdown",
   "id": "ready-customs",
   "metadata": {},
   "source": [
    "Имеем по условию задачи:<br>\n",
    "$\\mu_0 = 200$<br>\n",
    "n=10<br>\n",
    "α=1%<br>\n"
   ]
  },
  {
   "cell_type": "code",
   "execution_count": 6,
   "id": "bright-battle",
   "metadata": {},
   "outputs": [],
   "source": [
    "X = np.array([202, 203, 199, 197, 195, 201, 200, 204, 194, 190])\n",
    "x=X.mean()"
   ]
  },
  {
   "cell_type": "markdown",
   "id": "acceptable-quantum",
   "metadata": {},
   "source": [
    "Среднее квадратичное отклонение по выборке (несмещенное) $s_0$:"
   ]
  },
  {
   "cell_type": "code",
   "execution_count": 7,
   "id": "extreme-short",
   "metadata": {},
   "outputs": [],
   "source": [
    "s0=np.std(X, ddof=1)"
   ]
  },
  {
   "cell_type": "markdown",
   "id": "restricted-adventure",
   "metadata": {},
   "source": [
    "Выдвинем гипотезы:<br>\n",
    "$H_0: \\, \\mu = \\mu_0$<br>\n",
    "$H_1: \\, \\mu > \\mu_0$"
   ]
  },
  {
   "cell_type": "markdown",
   "id": "forbidden-oxygen",
   "metadata": {},
   "source": [
    "Вычислим t критерий:\n"
   ]
  },
  {
   "cell_type": "markdown",
   "id": "plastic-superior",
   "metadata": {},
   "source": [
    "# $t_р = \\frac{\\mu - \\mu_0}{\\frac{s_0}{\\sqrt{n}}}$ #"
   ]
  },
  {
   "cell_type": "code",
   "execution_count": 8,
   "id": "welsh-football",
   "metadata": {},
   "outputs": [
    {
     "data": {
      "text/plain": [
       "-1.0651074037450896"
      ]
     },
     "execution_count": 8,
     "metadata": {},
     "output_type": "execute_result"
    }
   ],
   "source": [
    "tp=(x - 200)/(s0/np.sqrt(10))\n",
    "tp"
   ]
  },
  {
   "cell_type": "markdown",
   "id": "powered-closure",
   "metadata": {},
   "source": [
    "Согласно t-таблице, для $\\frac{\\alpha}{2} = 0,005$ и числа степеней свободы равному $n-1 = 9$ значение $t_T = 3,25$"
   ]
  },
  {
   "cell_type": "markdown",
   "id": "burning-contributor",
   "metadata": {},
   "source": [
    "Так как $t_р$ попадает в интервал от $-t_T$ до $t_T$, то гипотеза $H_0$ верна"
   ]
  },
  {
   "cell_type": "markdown",
   "id": "objective-package",
   "metadata": {},
   "source": [
    "***Ответ: утверждение проддовца, что средний вес пачки печенья составляет 200 г., верно***"
   ]
  },
  {
   "cell_type": "markdown",
   "id": "figured-riverside",
   "metadata": {},
   "source": [
    "____"
   ]
  },
  {
   "cell_type": "markdown",
   "id": "pleased-expression",
   "metadata": {},
   "source": [
    "Приложение: Z-таблицы"
   ]
  },
  {
   "cell_type": "markdown",
   "id": "formal-controversy",
   "metadata": {},
   "source": [
    "![title](image1.png) ![title](image2.png)  ![title](image3.png)"
   ]
  },
  {
   "cell_type": "code",
   "execution_count": null,
   "id": "satellite-vacuum",
   "metadata": {},
   "outputs": [],
   "source": []
  }
 ],
 "metadata": {
  "kernelspec": {
   "display_name": "Python 3",
   "language": "python",
   "name": "python3"
  },
  "language_info": {
   "codemirror_mode": {
    "name": "ipython",
    "version": 3
   },
   "file_extension": ".py",
   "mimetype": "text/x-python",
   "name": "python",
   "nbconvert_exporter": "python",
   "pygments_lexer": "ipython3",
   "version": "3.8.5"
  }
 },
 "nbformat": 4,
 "nbformat_minor": 5
}
