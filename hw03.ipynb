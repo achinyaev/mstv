{
 "cells": [
  {
   "cell_type": "markdown",
   "id": "economic-memorial",
   "metadata": {},
   "source": [
    "### Домашнее задание №3"
   ]
  },
  {
   "cell_type": "markdown",
   "id": "religious-inquiry",
   "metadata": {},
   "source": [
    "***Описательная статистика. Качественные и количественные характеристики популяции. Графическое представление данных***"
   ]
  },
  {
   "cell_type": "markdown",
   "id": "missing-charlotte",
   "metadata": {},
   "source": [
    "***1) Даны значения зарплат из выборки выпускников: 100, 80, 75, 77, 89, 33, 45, 25, 65, 17, 30, 24, 57, 55, 70, 75, 65, 84, 90, 150. Посчитать (желательно без использования статистических методов наподобие std, var, mean) среднее арифметическое, среднее квадратичное отклонение, смещенную и несмещенную оценки дисперсий для данной выборки.***"
   ]
  },
  {
   "cell_type": "code",
   "execution_count": 1,
   "id": "corrected-novel",
   "metadata": {},
   "outputs": [
    {
     "name": "stdout",
     "output_type": "stream",
     "text": [
      "Математическое ожидание = 65.3\n",
      "Среднее квадратичное отклонение: 30.823854398825596\n",
      "Смещенная оценка дисперсии: 950.11\n",
      "Несмещенная оценка дисперсии: 1000.1157894736842\n"
     ]
    }
   ],
   "source": [
    "import pandas as pd\n",
    "from math import sqrt\n",
    "\n",
    "salary=pd.DataFrame([100, 80, 75, 77, 89, 33, 45, 25, 65, 17, 30, 24, 57, 55, 70, 75, 65, 84, 90, 150])\n",
    "#salary = [100, 80, 75, 77, 89, 33, 45, 25, 65, 17, 30, 24, 57, 55, 70, 75, 65, 84, 90, 150]\n",
    "mu = salary[0].sum()/salary[0].count()\n",
    "print(f'Математическое ожидание = {mu}')\n",
    "s = 0\n",
    "for value in salary[0]:\n",
    "    s+= (value-mu)**2\n",
    "print(f\"Среднее квадратичное отклонение: {sqrt(s/salary[0].count())}\")\n",
    "print(f\"Смещенная оценка дисперсии: {s/salary[0].count()}\")\n",
    "print(f\"Несмещенная оценка дисперсии: {s/(salary[0].count()-1)}\")\n"
   ]
  },
  {
   "cell_type": "markdown",
   "id": "optimum-insurance",
   "metadata": {},
   "source": [
    "***2) В первом ящике находится 8 мячей, из которых 5 - белые. Во втором ящике - 12 мячей, из которых 5 белых. Из первого ящика вытаскивают случайным образом два мяча, из второго - 4. Какова вероятность того, что 3 мяча белые?***"
   ]
  },
  {
   "cell_type": "markdown",
   "id": "horizontal-seating",
   "metadata": {},
   "source": [
    "Опишем все возможные варианты событий:\n",
    "<ol>\n",
    "<li>два мяча из первого ящика белые, один мяч из второго ящика белый и три чёрных;\n",
    "<li>два мяча из первого ящика чёрные, три мяча из второго ящика белые и один чёрный;\n",
    "<li>один мяч из первого ящика белый и второй мяч из первого ящика чёрный, два мяча из второго ящика белые и два мяча из второго ящика чёрные.\n",
    "</ol>\n"
   ]
  },
  {
   "cell_type": "markdown",
   "id": "herbal-building",
   "metadata": {},
   "source": [
    "Вероятность что из первого ящика вытащат два белых мяча:"
   ]
  },
  {
   "cell_type": "code",
   "execution_count": 2,
   "id": "adjustable-anderson",
   "metadata": {},
   "outputs": [],
   "source": [
    "p1 = (5/8)*(4/7)"
   ]
  },
  {
   "cell_type": "markdown",
   "id": "southeast-packet",
   "metadata": {},
   "source": [
    "Вероятность того, что один мяч из второго ящика белый а три мяча из второго ящика чёрные, для нас порядок не важен, будет суммой вероятностей четырех исходов\n",
    "<li>Cначала один белый потом три чёрных;\n",
    "<li>Сначала один черный, потом один белый, затем два черных;\n",
    "<li>Сначала два черных, потом один белый, затем один черный;\n",
    "<li>Сначала три черных, потом один белый."
   ]
  },
  {
   "cell_type": "code",
   "execution_count": 3,
   "id": "irish-cleanup",
   "metadata": {},
   "outputs": [],
   "source": [
    "p2 = (5/12)*(7/11)*(6/10)*(5/9) + (7/12)*(5/11)*(6/10)*(5/9) + (7/12)*(6/11)*(5/10)*(5/9) + (7/12)*(6/11)*(5/10)*(5/9)"
   ]
  },
  {
   "cell_type": "code",
   "execution_count": 4,
   "id": "actual-omega",
   "metadata": {},
   "outputs": [
    {
     "data": {
      "text/plain": [
       "0.12626262626262624"
      ]
     },
     "execution_count": 4,
     "metadata": {},
     "output_type": "execute_result"
    }
   ],
   "source": [
    "P1 = p1*p2\n",
    "P1"
   ]
  },
  {
   "cell_type": "markdown",
   "id": "pregnant-cemetery",
   "metadata": {},
   "source": [
    "Вероятность того, что из первого ящика будет вытащено 2 черных мяча:"
   ]
  },
  {
   "cell_type": "code",
   "execution_count": 5,
   "id": "conceptual-teddy",
   "metadata": {},
   "outputs": [],
   "source": [
    "p1 = (3/8)*(2/7)"
   ]
  },
  {
   "cell_type": "markdown",
   "id": "worthy-preview",
   "metadata": {},
   "source": [
    "Вероятность того, что три мяча из второго ящика белые, а один мяч из второго ящика чёрный, для нас порядок не важен, будет суммой вероятностей четырех исходов:\n",
    "<li>Cначала три белых, потом один чёрный;\n",
    "<li>Сначала два белых, потом один черный, затем один белый;\n",
    "<li>Сначала один белый, потом один черный, затем два белых;\n",
    "<li>Сначала один черный, потом три белых. "
   ]
  },
  {
   "cell_type": "code",
   "execution_count": 6,
   "id": "false-essex",
   "metadata": {},
   "outputs": [],
   "source": [
    "p2 = (5/12)*(4/11)*(3/10)*(7/9) + (5/12)*(4/11)*(7/10)*(3/9) + (5/12)*(7/11)*(4/10)*(3/9) + (7/12)*(5/11)*(4/10)*(3/9)"
   ]
  },
  {
   "cell_type": "code",
   "execution_count": 7,
   "id": "agricultural-tracker",
   "metadata": {},
   "outputs": [
    {
     "data": {
      "text/plain": [
       "0.01515151515151515"
      ]
     },
     "execution_count": 7,
     "metadata": {},
     "output_type": "execute_result"
    }
   ],
   "source": [
    "P2 = p1*p2\n",
    "P2"
   ]
  },
  {
   "cell_type": "markdown",
   "id": "moral-thinking",
   "metadata": {},
   "source": [
    "Вероятность того, что один мяч из первого ящика белый, а второй мяч из первого ящика чёрный, для нас порядок не важен, будет суммой вероятностей двух исходов:\n",
    "<li>первый мяч из первого ящика белый, а второй мяч черный\n",
    "<li>первый мяч из первого ящика черный, а второй мяч белый"
   ]
  },
  {
   "cell_type": "code",
   "execution_count": 8,
   "id": "ignored-stone",
   "metadata": {},
   "outputs": [],
   "source": [
    "p1 = (5/8)*(3/7)+(3/8)*(5/7)"
   ]
  },
  {
   "cell_type": "markdown",
   "id": "consecutive-annual",
   "metadata": {},
   "source": [
    "Вероятность того, что два мяча из второго ящика белые и два мяча из второго ящика чёрные, для нас порядок не важен, будет суммой вероятностей шести исходов:\n",
    "<li>первые два меча белых, затем два черных;\n",
    "<li>один мяч белый, два черных, один белый;\n",
    "<li>два черных, потом два белых;\n",
    "<li>первый мяч черный, второй белый, третий черный, четвертый белый; \n",
    "<li>первый мяч черный, второй и третий белый, четвертый черный; \n",
    "<li>первый мяч белый, второй черный, третий белый, четвертый черный.\n"
   ]
  },
  {
   "cell_type": "code",
   "execution_count": 9,
   "id": "narrow-celtic",
   "metadata": {},
   "outputs": [],
   "source": [
    "p2 = (5/12)*(4/11)*(7/10)*(6/9)+(5/12)*(7/11)*(6/10)*(4/9)+(7/12)*(6/11)*(5/10)*(4/9)+(7/12)*(5/11)*(6/10)*(4/9)+(7/12)*(5/11)*(4/10)*(6/9)+(5/12)*(7/11)*(4/10)*(6/9)"
   ]
  },
  {
   "cell_type": "code",
   "execution_count": 10,
   "id": "single-government",
   "metadata": {},
   "outputs": [
    {
     "data": {
      "text/plain": [
       "0.22727272727272727"
      ]
     },
     "execution_count": 10,
     "metadata": {},
     "output_type": "execute_result"
    }
   ],
   "source": [
    "P3 = p1*p2\n",
    "P3"
   ]
  },
  {
   "cell_type": "markdown",
   "id": "monthly-lender",
   "metadata": {},
   "source": [
    "Итоговая вероятнось что три мяча будут белых равна сумме вероятностей"
   ]
  },
  {
   "cell_type": "code",
   "execution_count": 11,
   "id": "silver-sharp",
   "metadata": {},
   "outputs": [],
   "source": [
    "P = P1 + P2 + P3"
   ]
  },
  {
   "cell_type": "code",
   "execution_count": 12,
   "id": "divided-freeze",
   "metadata": {},
   "outputs": [
    {
     "data": {
      "text/plain": [
       "0.3686868686868686"
      ]
     },
     "execution_count": 12,
     "metadata": {},
     "output_type": "execute_result"
    }
   ],
   "source": [
    "P"
   ]
  },
  {
   "cell_type": "markdown",
   "id": "asian-fancy",
   "metadata": {},
   "source": [
    "#### Ответ: P = 0.3686868686868686 ####"
   ]
  },
  {
   "cell_type": "markdown",
   "id": "phantom-committee",
   "metadata": {},
   "source": [
    "***3) На соревновании по биатлону один из трех спортсменов стреляет и попадает в мишень. Вероятность попадания для первого спортсмена равна 0.9, для второго — 0.8, для третьего — 0.6. Найти вероятность того, что выстрел произведен: a). первым спортсменом б). вторым спортсменом в). третьим спортсменом.***"
   ]
  },
  {
   "cell_type": "markdown",
   "id": "geological-worker",
   "metadata": {},
   "source": [
    "Если был произведен выстрел, вероятность того что выстрелил любой из спортсменов равна $\\frac{1}{3}$"
   ]
  },
  {
   "cell_type": "markdown",
   "id": "conditional-making",
   "metadata": {},
   "source": [
    "Искомым событием $A$ будем считать попадание в мишень для каждого из стрелка, а событиями $B_1, B_2$ и $B_3$ — что выстрел совершил первый, второй или третий спортсмен:"
   ]
  },
  {
   "cell_type": "markdown",
   "id": "guided-routine",
   "metadata": {},
   "source": [
    "Вероятности попаданий в мешень для каждого из стрелков:<br>\n",
    "$P(A\\:|\\:B_1) = 0.9$\n",
    "\n",
    "$P(A\\:|\\:B_2) = 0.8$\n",
    "\n",
    "$P(A\\:|\\:B_3) = 0.6$"
   ]
  },
  {
   "cell_type": "markdown",
   "id": "median-skating",
   "metadata": {},
   "source": [
    "Вероятность того, что стрелял первый спортсмен и попал в мишень, расчитывается след.образом:\n",
    "\n",
    "$P(B_1\\:|\\:A) = \\frac{P(B_1) \\cdot P(A\\:|\\:B_1)}{P(A)}$\n",
    "\n",
    "$P(B_1\\:|\\:A) = \\frac{\\frac{1}{3} \\cdot 0.9}{\\frac{1}{3} \\cdot 0.9 + \\frac{1}{3} \\cdot 0.8 + \\frac{1}{3} \\cdot 0.6} = \\frac{9}{23}$"
   ]
  },
  {
   "cell_type": "markdown",
   "id": "smooth-contributor",
   "metadata": {},
   "source": [
    "Вероятность того, что стрелял второй спортсмен и попал в мишень, расчитывается след.образом:\n",
    "\n",
    "$P(B_2\\:|\\:A) = \\frac{P(B_1) \\cdot P(A\\:|\\:B_1)}{P(A)}$\n",
    "\n",
    "$P(B_2\\:|\\:A) = \\frac{\\frac{1}{3} \\cdot 0.8}{\\frac{1}{3} \\cdot 0.9 + \\frac{1}{3} \\cdot 0.8 + \\frac{1}{3} \\cdot 0.6} = \\frac{8}{23}$"
   ]
  },
  {
   "cell_type": "markdown",
   "id": "smart-bench",
   "metadata": {},
   "source": [
    "Вероятность того, что стрелял третий спортсмен и попал в мишень находится по формуле:\n",
    "\n",
    "$P(B_3\\:|\\:A) = \\frac{P(B_3) \\cdot P(A\\:|\\:B_3)}{P(A)}$\n",
    "\n",
    "$P(B_3\\:|\\:A) = \\frac{\\frac{1}{3} \\cdot 0.6}{\\frac{1}{3} \\cdot 0.9 + \\frac{1}{3} \\cdot 0.8 + \\frac{1}{3} \\cdot 0.6} = \\frac{6}{23}$"
   ]
  },
  {
   "cell_type": "markdown",
   "id": "french-tower",
   "metadata": {},
   "source": [
    "#### Ответ: Искомые вероятности 1) $\\frac{8}{33}$; 2) $\\frac{7}{33}$; 3) $\\frac{18}{33}$ ####"
   ]
  },
  {
   "cell_type": "markdown",
   "id": "documented-brunei",
   "metadata": {},
   "source": [
    "***5) Устройство состоит из трех деталей. Для первой детали вероятность выйти из строя в первый месяц равна 0.1, для второй - 0.2, для третьей - 0.25. Какова вероятность того, что в первый месяц выйдут из строя: а). все детали б). только две детали в). хотя бы одна деталь г). от одной до двух деталей?***"
   ]
  },
  {
   "cell_type": "markdown",
   "id": "infinite-factor",
   "metadata": {},
   "source": [
    "а) Вероятность того, что в первый месяц выйдут из строя все детали:"
   ]
  },
  {
   "cell_type": "code",
   "execution_count": 13,
   "id": "organized-burlington",
   "metadata": {},
   "outputs": [
    {
     "data": {
      "text/plain": [
       "0.005000000000000001"
      ]
     },
     "execution_count": 13,
     "metadata": {},
     "output_type": "execute_result"
    }
   ],
   "source": [
    "0.1*0.2*0.25"
   ]
  },
  {
   "cell_type": "markdown",
   "id": "stupid-michael",
   "metadata": {},
   "source": [
    "б) Вероятность того, что в первый месяц выйдут из строя только 2 детали равна сумме вероятностей событий:\n",
    "<li>первая и вторая детали вышли из строя, а третья нет;\n",
    "<li>первая и третья детали вышли из строя, а вторая нет;\n",
    "<li>вторая и третья детали вышли из строя, а первая нет."
   ]
  },
  {
   "cell_type": "code",
   "execution_count": 14,
   "id": "broken-scheme",
   "metadata": {},
   "outputs": [
    {
     "data": {
      "text/plain": [
       "0.08000000000000002"
      ]
     },
     "execution_count": 14,
     "metadata": {},
     "output_type": "execute_result"
    }
   ],
   "source": [
    "0.1*0.2*(1-0.25)+0.1*(1-0.2)*0.25+(1-0.1)*0.2*0.25"
   ]
  },
  {
   "cell_type": "markdown",
   "id": "olive-monte",
   "metadata": {},
   "source": [
    "в) Вероятность того, что в первый месяц выйдет из строя хоть одна деталь (противоположна вероятности что не выйдет ни одна деталь из строя):"
   ]
  },
  {
   "cell_type": "code",
   "execution_count": 15,
   "id": "separate-appliance",
   "metadata": {},
   "outputs": [
    {
     "data": {
      "text/plain": [
       "0.45999999999999996"
      ]
     },
     "execution_count": 15,
     "metadata": {},
     "output_type": "execute_result"
    }
   ],
   "source": [
    "1 - (1-0.1)*(1-0.2)*(1-0.25)"
   ]
  },
  {
   "cell_type": "markdown",
   "id": "subjective-channel",
   "metadata": {},
   "source": [
    "г) Вероятность что в первый месяц выйдут из строя от одной до двух деталей, является противоположным сумме вероятностей событий:\n",
    "<li> что в первый месяц не выйдет из строя ни одна деталь;\n",
    "<li> что в первый месяц выйдут из строя все 3 детали.<br>\n",
    "Вероятность равна:"
   ]
  },
  {
   "cell_type": "code",
   "execution_count": 16,
   "id": "russian-naples",
   "metadata": {},
   "outputs": [
    {
     "data": {
      "text/plain": [
       "0.45499999999999996"
      ]
     },
     "execution_count": 16,
     "metadata": {},
     "output_type": "execute_result"
    }
   ],
   "source": [
    "1 - ((1-0.1)*(1-0.2)*(1-0.25) + 0.1*0.2*0.25)"
   ]
  },
  {
   "cell_type": "markdown",
   "id": "based-priority",
   "metadata": {},
   "source": [
    "#### Ответ: а) 0.005; б) 0.08; в) 0.46; г) 0.455 ####"
   ]
  },
  {
   "cell_type": "code",
   "execution_count": null,
   "id": "antique-realtor",
   "metadata": {},
   "outputs": [],
   "source": []
  }
 ],
 "metadata": {
  "kernelspec": {
   "display_name": "Python 3",
   "language": "python",
   "name": "python3"
  },
  "language_info": {
   "codemirror_mode": {
    "name": "ipython",
    "version": 3
   },
   "file_extension": ".py",
   "mimetype": "text/x-python",
   "name": "python",
   "nbconvert_exporter": "python",
   "pygments_lexer": "ipython3",
   "version": "3.8.5"
  }
 },
 "nbformat": 4,
 "nbformat_minor": 5
}
