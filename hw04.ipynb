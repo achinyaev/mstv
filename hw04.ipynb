{
 "cells": [
  {
   "cell_type": "markdown",
   "id": "sitting-chaos",
   "metadata": {},
   "source": [
    "### Домашнее задание №4 ###\n",
    "Непрерывные случайные величины. Функция распределения и плотность распределения вероятностей. Равномерное и нормальное распределение. Центральная предельная теорема"
   ]
  },
  {
   "cell_type": "markdown",
   "id": "partial-divorce",
   "metadata": {},
   "source": [
    "**1. Случайная непрерывная величина A имеет равномерное распределение на промежутке (200, 800]. Найдите ее среднее значение и дисперсию.**"
   ]
  },
  {
   "cell_type": "markdown",
   "id": "altered-mathematics",
   "metadata": {},
   "source": [
    "Математическое ожидание равномерно распределенной непрерывной случайной величины A можно вычислить по формуле: $M(A) = \\frac{a + b}{2}$"
   ]
  },
  {
   "cell_type": "markdown",
   "id": "competitive-chamber",
   "metadata": {},
   "source": [
    "Соответсвенно для нашего отрезка получается: $M(A) = \\frac{200 + 800}{2}=500$"
   ]
  },
  {
   "cell_type": "markdown",
   "id": "charitable-classroom",
   "metadata": {},
   "source": [
    "Дисперсия расчитывается по формуле: $D(A) = \\frac{(b - a)^2}{12}$"
   ]
  },
  {
   "cell_type": "markdown",
   "id": "martial-session",
   "metadata": {},
   "source": [
    "Получается $D(A) = \\frac{(800 - 200)^2}{12} = \\frac{360000}{12} = 30000$"
   ]
  },
  {
   "cell_type": "markdown",
   "id": "stock-joshua",
   "metadata": {},
   "source": [
    "Ответ: M(A)=500; D(A)=30000"
   ]
  },
  {
   "cell_type": "markdown",
   "id": "obvious-watson",
   "metadata": {},
   "source": [
    "**2. О случайной непрерывной равномерно распределенной величине B известно, что ее дисперсия равна 0.2. Можно ли найти правую границу величины B и ее среднее значение зная, что левая граница равна 0.5? Если да, найдите ее.**"
   ]
  },
  {
   "cell_type": "markdown",
   "id": "threatened-spending",
   "metadata": {},
   "source": [
    "$D(A) = \\frac{(b - a)^2}{12}$ Знаем что D(B) = 0.2 и a=0.5 попробуем составить уравнение, что бы найти b (левую границу)"
   ]
  },
  {
   "cell_type": "markdown",
   "id": "false-atmosphere",
   "metadata": {},
   "source": [
    "${(b - a)^2}={2.4}$"
   ]
  },
  {
   "cell_type": "markdown",
   "id": "silent-independence",
   "metadata": {},
   "source": [
    "${(b - a)}=\\sqrt{2.4}$"
   ]
  },
  {
   "cell_type": "markdown",
   "id": "beneficial-savage",
   "metadata": {},
   "source": [
    "${b}=a+\\sqrt{2.4}$ следовательно ${a}=0.5+\\sqrt{2.4}$"
   ]
  },
  {
   "cell_type": "markdown",
   "id": "reduced-guide",
   "metadata": {},
   "source": [
    "${b}\\approx{2,049}$"
   ]
  },
  {
   "cell_type": "markdown",
   "id": "unavailable-insured",
   "metadata": {},
   "source": [
    "Расчитаем мат.ожидание по формуле: $M(A) = \\frac{a + b}{2}$"
   ]
  },
  {
   "cell_type": "markdown",
   "id": "valid-crowd",
   "metadata": {},
   "source": [
    "$M(A) \\approx {1,275}$"
   ]
  },
  {
   "cell_type": "markdown",
   "id": "gothic-large",
   "metadata": {},
   "source": [
    "Ответ: 𝑏≈2,049; 𝑀(𝐴)≈1,275"
   ]
  },
  {
   "cell_type": "markdown",
   "id": "matched-occasion",
   "metadata": {},
   "source": [
    "**3. Непрерывная случайная величина X распределена нормально и задана плотностью распределения **\n",
    "## $f(x) = \\frac{1}{4\\sqrt{2\\pi}} \\cdot e^{-\\frac{(x+2)^2}{32}}$ ##"
   ]
  },
  {
   "cell_type": "markdown",
   "id": "challenging-biodiversity",
   "metadata": {},
   "source": [
    "**Найдите: а) M(X); б) D(X); в) std(X) (среднее квадратичное отклонение)**"
   ]
  },
  {
   "cell_type": "markdown",
   "id": "convinced-bryan",
   "metadata": {},
   "source": [
    "По определению **нормальное распределение** — это распределение вероятностей непрерывной случайной величины $X$, плотность вероятности которой расчитывается по формуле: "
   ]
  },
  {
   "cell_type": "markdown",
   "id": "small-heading",
   "metadata": {},
   "source": [
    "## $f(x) = \\frac{1}{\\sigma \\sqrt{2 \\pi}} e ^ {- \\frac{(x - a)^2}{2 \\sigma^2}}$ ##"
   ]
  },
  {
   "cell_type": "markdown",
   "id": "cardiac-anger",
   "metadata": {},
   "source": [
    "Соответсвенно для нашего случая $\\sigma=4$, $\\sigma^2=16$ а ${a}=-2$"
   ]
  },
  {
   "cell_type": "markdown",
   "id": "recorded-sodium",
   "metadata": {},
   "source": [
    "$M(X) = a = -2$<br>\n",
    "$D(X) = \\sigma^2 = 16$<br>\n"
   ]
  },
  {
   "cell_type": "markdown",
   "id": "adaptive-questionnaire",
   "metadata": {},
   "source": [
    "Ответ: 𝑀(𝑋)=−2; 𝐷(𝑋)=16; 𝜎=4"
   ]
  },
  {
   "cell_type": "code",
   "execution_count": null,
   "id": "private-grain",
   "metadata": {},
   "outputs": [],
   "source": []
  }
 ],
 "metadata": {
  "kernelspec": {
   "display_name": "Python 3",
   "language": "python",
   "name": "python3"
  },
  "language_info": {
   "codemirror_mode": {
    "name": "ipython",
    "version": 3
   },
   "file_extension": ".py",
   "mimetype": "text/x-python",
   "name": "python",
   "nbconvert_exporter": "python",
   "pygments_lexer": "ipython3",
   "version": "3.8.5"
  }
 },
 "nbformat": 4,
 "nbformat_minor": 5
}
