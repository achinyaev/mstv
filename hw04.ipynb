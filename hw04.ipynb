{
 "cells": [
  {
   "cell_type": "markdown",
   "id": "further-offering",
   "metadata": {},
   "source": [
    "### Домашнее задание №4 ###\n",
    "Непрерывные случайные величины. Функция распределения и плотность распределения вероятностей. Равномерное и нормальное распределение. Центральная предельная теорема"
   ]
  },
  {
   "cell_type": "markdown",
   "id": "anonymous-literacy",
   "metadata": {},
   "source": [
    "**1. Случайная непрерывная величина A имеет равномерное распределение на промежутке (200, 800]. Найдите ее среднее значение и дисперсию.**"
   ]
  },
  {
   "cell_type": "markdown",
   "id": "accurate-great",
   "metadata": {},
   "source": [
    "Математическое ожидание равномерно распределенной непрерывной случайной величины A можно вычислить по формуле: $M(A) = \\frac{a + b}{2}$"
   ]
  },
  {
   "cell_type": "markdown",
   "id": "saving-nicaragua",
   "metadata": {},
   "source": [
    "Соответсвенно для нашего отрезка получается: $M(A) = \\frac{200 + 800}{2}=500$"
   ]
  },
  {
   "cell_type": "markdown",
   "id": "determined-mineral",
   "metadata": {},
   "source": [
    "Дисперсия расчитывается по формуле: $D(A) = \\frac{(b - a)^2}{12}$"
   ]
  },
  {
   "cell_type": "markdown",
   "id": "hundred-module",
   "metadata": {},
   "source": [
    "Получается $D(A) = \\frac{(800 - 200)^2}{12} = \\frac{360000}{12} = 30000$"
   ]
  },
  {
   "cell_type": "markdown",
   "id": "revised-function",
   "metadata": {},
   "source": [
    "Ответ: M(A)=500; D(A)=30000"
   ]
  },
  {
   "cell_type": "markdown",
   "id": "medieval-finance",
   "metadata": {},
   "source": [
    "**2. О случайной непрерывной равномерно распределенной величине B известно, что ее дисперсия равна 0.2. Можно ли найти правую границу величины B и ее среднее значение зная, что левая граница равна 0.5? Если да, найдите ее.**"
   ]
  },
  {
   "cell_type": "markdown",
   "id": "destroyed-trading",
   "metadata": {},
   "source": [
    "$D(A) = \\frac{(b - a)^2}{12}$ Знаем что D(B) = 0.2 и a=0.5 попробуем составить уравнение, что бы найти b (левую границу)"
   ]
  },
  {
   "cell_type": "markdown",
   "id": "revolutionary-slovak",
   "metadata": {},
   "source": [
    "${(b - a)^2}={2.4}$"
   ]
  },
  {
   "cell_type": "markdown",
   "id": "aware-concord",
   "metadata": {},
   "source": [
    "${(b - a)}=\\sqrt{2.4}$"
   ]
  },
  {
   "cell_type": "markdown",
   "id": "proud-assistant",
   "metadata": {},
   "source": [
    "${b}=a+\\sqrt{2.4}$ следовательно ${a}=0.5+\\sqrt{2.4}$"
   ]
  },
  {
   "cell_type": "markdown",
   "id": "suburban-footwear",
   "metadata": {},
   "source": [
    "${b}\\approx{2,049}$"
   ]
  },
  {
   "cell_type": "markdown",
   "id": "systematic-brass",
   "metadata": {},
   "source": [
    "Расчитаем мат.ожидание по формуле: $M(A) = \\frac{a + b}{2}$"
   ]
  },
  {
   "cell_type": "markdown",
   "id": "adjustable-potato",
   "metadata": {},
   "source": [
    "$M(A) \\approx {1,275}$"
   ]
  },
  {
   "cell_type": "markdown",
   "id": "humanitarian-fabric",
   "metadata": {},
   "source": [
    "Ответ: 𝑏≈2,049; 𝑀(𝐴)≈1,275"
   ]
  },
  {
   "cell_type": "markdown",
   "id": "textile-paraguay",
   "metadata": {},
   "source": [
    "**3. Непрерывная случайная величина X распределена нормально и задана плотностью распределения **\n",
    "## $f(x) = \\frac{1}{4\\sqrt{2\\pi}} \\cdot e^{-\\frac{(x+2)^2}{32}}$ ##"
   ]
  },
  {
   "cell_type": "markdown",
   "id": "forward-yugoslavia",
   "metadata": {},
   "source": [
    "**Найдите: а) M(X); б) D(X); в) std(X) (среднее квадратичное отклонение)**"
   ]
  },
  {
   "cell_type": "markdown",
   "id": "closed-motivation",
   "metadata": {},
   "source": [
    "По определению **нормальное распределение** — это распределение вероятностей непрерывной случайной величины $X$, плотность вероятности которой расчитывается по формуле: "
   ]
  },
  {
   "cell_type": "markdown",
   "id": "prompt-williams",
   "metadata": {},
   "source": [
    "## $f(x) = \\frac{1}{\\sigma \\sqrt{2 \\pi}} e ^ {- \\frac{(x - a)^2}{2 \\sigma^2}}$ ##"
   ]
  },
  {
   "cell_type": "markdown",
   "id": "disabled-latvia",
   "metadata": {},
   "source": [
    "Соответсвенно для нашего случая $\\sigma=4$, $\\sigma^2=16$ а ${a}=-2$"
   ]
  },
  {
   "cell_type": "markdown",
   "id": "general-premises",
   "metadata": {},
   "source": [
    "$M(X) = a = -2$<br>\n",
    "$D(X) = \\sigma^2 = 16$<br>\n"
   ]
  },
  {
   "cell_type": "markdown",
   "id": "operating-church",
   "metadata": {},
   "source": [
    "Ответ: 𝑀(𝑋)=−2; 𝐷(𝑋)=16; 𝜎=4"
   ]
  },
  {
   "cell_type": "markdown",
   "id": "disciplinary-webcam",
   "metadata": {},
   "source": [
    "**4. Рост взрослого населения города X имеет нормальное распределение. Причем, средний рост равен 174 см, а среднее квадратичное отклонение равно 8 см. Какова вероятность того, что случайным образом выбранный взрослый человек имеет рост:**<br>\n",
    "а) больше 182 см<br>\n",
    "б) больше 190 см<br>\n",
    "в) от 166 см до 190 см<br>\n",
    "г) от 166 см до 182 см<br>\n",
    "д) от 158 см до 190 см<br>\n",
    "е) не выше 150 см или не ниже 190 см<br>\n",
    "ё) не выше 150 см или не ниже 198 см<br>\n",
    "ж) ниже 166 см.<br>"
   ]
  },
  {
   "cell_type": "markdown",
   "id": "behavioral-anger",
   "metadata": {},
   "source": [
    "При вычислении воспользуемся Z таблицей\n"
   ]
  },
  {
   "cell_type": "markdown",
   "id": "noticed-banana",
   "metadata": {},
   "source": [
    "![title](image1.png) ![title](image2.png)"
   ]
  },
  {
   "cell_type": "markdown",
   "id": "hungarian-quest",
   "metadata": {},
   "source": [
    "а) больше 182 см\n",
    "\n",
    "### $ \\frac{182-174}{8} = 1$"
   ]
  },
  {
   "cell_type": "markdown",
   "id": "transparent-photograph",
   "metadata": {},
   "source": [
    "Согласно Z-таблице  𝑍(1)=0,84134, а значит искомая вероятность равна: $1-0,84134 = 0,15866$"
   ]
  },
  {
   "cell_type": "markdown",
   "id": "crazy-retention",
   "metadata": {},
   "source": [
    "б) больше 190 см\n",
    "\n",
    "$ \\frac{190-174}{8} = 2$<br>\n",
    "Согласно Z-таблице Z(2)=0,97725, а значит искомая вероятность равна: $1-0,97725 = 0,02275$"
   ]
  },
  {
   "cell_type": "markdown",
   "id": "precise-october",
   "metadata": {},
   "source": [
    "в) от 166 см до 190 см\n",
    "\n",
    "$\\frac{166-174}{8} = -1$"
   ]
  },
  {
   "cell_type": "markdown",
   "id": "answering-thread",
   "metadata": {},
   "source": [
    "Значит необходимо найти в интервале $-1 < \\sigma < 2$<br>\n",
    "Согласно Z-таблице Z(-1)=0,15866, а значит искомая вероятность равна: $(0,5-0,15866)+(0,5-0,02275) = 0,81859$"
   ]
  },
  {
   "cell_type": "markdown",
   "id": "skilled-closure",
   "metadata": {},
   "source": [
    "г) от 166 см до 182 см"
   ]
  },
  {
   "cell_type": "markdown",
   "id": "aquatic-peoples",
   "metadata": {},
   "source": [
    "Исходя из ранее полученных результатов необходимо найти в интервале $-1 < \\sigma < 1$"
   ]
  },
  {
   "cell_type": "markdown",
   "id": "handy-universe",
   "metadata": {},
   "source": [
    "$ (0,5-0,15866)+(0,5-0,15866) = 0,68268$"
   ]
  },
  {
   "cell_type": "markdown",
   "id": "square-swing",
   "metadata": {},
   "source": [
    "д) от 158 см до 190 см\n",
    "\n",
    "$ \\frac{158-174}{8} = -2$"
   ]
  },
  {
   "cell_type": "markdown",
   "id": "simplified-maldives",
   "metadata": {},
   "source": [
    "Исходя из ранее полученных результатов для 190 необходимо найти в интервале $-2 < \\sigma < 2$."
   ]
  },
  {
   "cell_type": "markdown",
   "id": "dried-running",
   "metadata": {},
   "source": [
    "вероятность равна:\n",
    "\n",
    "$ (0,5 - 0,02275)+(0,5 - 0,02275) = 0,9545$"
   ]
  },
  {
   "cell_type": "markdown",
   "id": "looking-spanking",
   "metadata": {},
   "source": [
    "е) не выше 150 см или не ниже 190 см\n",
    "\n",
    "$ \\frac{150-174}{8} = -3$"
   ]
  },
  {
   "cell_type": "markdown",
   "id": "pursuant-livestock",
   "metadata": {},
   "source": [
    "Исходя из ранее полученных результатов для 190 и согласно Z-таблицы $Z(-3) = 0,00135$ необходимо найти для хвостов $-3 > \\sigma$ и $\\sigma > 2$."
   ]
  },
  {
   "cell_type": "markdown",
   "id": "postal-mystery",
   "metadata": {},
   "source": [
    "$0,00135 + 0,02275 = 0,0241$"
   ]
  },
  {
   "cell_type": "markdown",
   "id": "dental-gothic",
   "metadata": {},
   "source": [
    "е) не выше 150 см или не ниже 198 см\n",
    "\n",
    "$\\frac{198-174}{8} = 3$"
   ]
  },
  {
   "cell_type": "markdown",
   "id": "opening-editor",
   "metadata": {},
   "source": [
    "Исходя из ранее полученных результатов для 150 и согласно Z-таблицы $Z(3) = 0,99865$ необходимо найти для хвостов $-3 > \\sigma$ и $\\sigma > 3$."
   ]
  },
  {
   "cell_type": "markdown",
   "id": "opposite-crack",
   "metadata": {},
   "source": [
    "$0,00135+(1-0,99865)=0,0027$"
   ]
  },
  {
   "cell_type": "markdown",
   "id": "adverse-strip",
   "metadata": {},
   "source": [
    "ж) ниже 166 см\n",
    "Из ранее решенных результатов для 166 необходимо найти для части 𝜎<−1 .\n",
    "\n",
    "искомая вероятность будет равна: 0,15866"
   ]
  },
  {
   "cell_type": "markdown",
   "id": "first-bradley",
   "metadata": {},
   "source": [
    "Ответ: a) 0,15866; б) 0,02275; в) 0,81859; г) 0,68268; д) 0,9545; е) 0,0241; ё) 0,0027; ж) 0,15866"
   ]
  },
  {
   "cell_type": "markdown",
   "id": "resistant-detroit",
   "metadata": {},
   "source": [
    "**5. На сколько сигм (средних квадратичных отклонений) отклоняется рост человека, равный 190 см, от математического ожидания роста в популяции, в которой M(X) = 178 см и D(X) = 25 кв.см?**"
   ]
  },
  {
   "cell_type": "markdown",
   "id": "global-senate",
   "metadata": {},
   "source": [
    "Зная что $D(X)=\\sigma^2$, следовательно: $\\sigma = \\sqrt{25} = 5$"
   ]
  },
  {
   "cell_type": "markdown",
   "id": "floppy-printing",
   "metadata": {},
   "source": [
    "найдем сколько сигм $\\frac{190-178}{5} = 2,4$"
   ]
  },
  {
   "cell_type": "markdown",
   "id": "delayed-novelty",
   "metadata": {},
   "source": [
    "Ответ: на 2.4 сигм"
   ]
  }
 ],
 "metadata": {
  "kernelspec": {
   "display_name": "Python 3",
   "language": "python",
   "name": "python3"
  },
  "language_info": {
   "codemirror_mode": {
    "name": "ipython",
    "version": 3
   },
   "file_extension": ".py",
   "mimetype": "text/x-python",
   "name": "python",
   "nbconvert_exporter": "python",
   "pygments_lexer": "ipython3",
   "version": "3.8.5"
  }
 },
 "nbformat": 4,
 "nbformat_minor": 5
}
