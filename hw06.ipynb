{
 "cells": [
  {
   "cell_type": "markdown",
   "id": "academic-forum",
   "metadata": {},
   "source": [
    "### Домашнее задание №6 ###"
   ]
  },
  {
   "cell_type": "markdown",
   "id": "afraid-harris",
   "metadata": {},
   "source": [
    "**Взаимосвязь величин. Параметрические и непараметрические показатели корреляции. Корреляционный анализ.**"
   ]
  },
  {
   "cell_type": "markdown",
   "id": "accurate-coordination",
   "metadata": {},
   "source": [
    "**1. Даны значения величины заработной платы заемщиков банка (zp) и значения их поведенческого кредитного скоринга (ks):<br>\n",
    "zp = [35, 45, 190, 200, 40, 70, 54, 150, 120, 110];<br>\n",
    "ks = [401, 574, 874, 919, 459, 739, 653, 902, 746, 832].<br>\n",
    "Найдите ковариацию этих двух величин с помощью элементарных действий, а затем с помощью функции cov из numpy. Полученные значения должны быть равны.<br>\n",
    "Найдите коэффициент корреляции Пирсона с помощью ковариации и среднеквадратичных отклонений двух признаков, а затем с использованием функций из библиотек numpy и pandas.**"
   ]
  },
  {
   "cell_type": "code",
   "execution_count": 2,
   "id": "optional-level",
   "metadata": {},
   "outputs": [
    {
     "name": "stdout",
     "output_type": "stream",
     "text": [
      "Ковариация с помощью элементарных действий: 9157.839999999997\n",
      "Ковариация с помощью библиотеки numpy: 9157.84\n"
     ]
    }
   ],
   "source": [
    "import numpy as np\n",
    "import pandas as pd\n",
    "\n",
    "zp = [35, 45, 190, 200, 40, 70, 54, 150, 120, 110]\n",
    "ks = [401, 574, 874, 919, 459, 739, 653, 902, 746, 832]\n",
    "\n",
    "\n",
    "sum_salary = 0\n",
    "for item in zp:\n",
    "    sum_salary+= item\n",
    "\n",
    "\n",
    "sum_cs = 0\n",
    "for item in ks:\n",
    "    sum_cs+= item\n",
    "    \n",
    "\n",
    "sum_zp_cs=0\n",
    "for ind in range(len(zp)):\n",
    "    sum_zp_cs+=zp[ind]*ks[ind]\n",
    "\n",
    "salary_mean = sum_salary/len(zp)\n",
    "credscore_mean = sum_cs/len(ks)\n",
    "salary_credscore_mean = sum_zp_cs/len(zp)\n",
    "\n",
    "cov_math = salary_credscore_mean - salary_mean*credscore_mean\n",
    "print(f\"Ковариация с помощью элементарных действий: {cov_math}\")\n",
    "\n",
    "cov_numpy = np.cov(np.array(zp), np.array(ks), ddof=0)\n",
    "print(f'Ковариация с помощью библиотеки numpy: {cov_numpy[1][0]}')\n",
    "\n"
   ]
  },
  {
   "cell_type": "code",
   "execution_count": 3,
   "id": "exterior-massage",
   "metadata": {},
   "outputs": [
    {
     "name": "stdout",
     "output_type": "stream",
     "text": [
      "Коэффициент корреляции Пирсона с помощью элементарных действий: 0.8874900920739158\n",
      "Коэффициент корреляции Пирсона с помощью библиотеки numpy: 0.887490092073916\n"
     ]
    }
   ],
   "source": [
    "sum_salary = 0\n",
    "for item in zp:\n",
    "    sum_salary+= (item-salary_mean)**2\n",
    "\n",
    "sum_cs = 0\n",
    "for item in ks:\n",
    "    sum_cs+= (item-credscore_mean)**2\n",
    "    \n",
    "sigma_salary = (sum_salary/len(zp))**0.5\n",
    "sigma_credscore = (sum_cs/len(ks))**0.5\n",
    "\n",
    "corr_coeff = cov_math/(sigma_salary*sigma_credscore)\n",
    "\n",
    "print(f\"Коэффициент корреляции Пирсона с помощью элементарных действий: {corr_coeff}\")\n",
    "\n",
    "corr_coeff_np = np.corrcoef(np.array(zp), np.array(ks))\n",
    "\n",
    "print(f\"Коэффициент корреляции Пирсона с помощью библиотеки numpy: {corr_coeff_np[1][0]}\")"
   ]
  },
  {
   "cell_type": "markdown",
   "id": "completed-sheffield",
   "metadata": {},
   "source": [
    "***Ответ: расхождения между значениями незначительные***"
   ]
  },
  {
   "cell_type": "markdown",
   "id": "subsequent-invalid",
   "metadata": {},
   "source": [
    "**2. Измерены значения IQ выборки студентов, обучающихся в местных технических вузах: 131, 125, 115, 122, 131, 115, 107, 99, 125, 111. Известно, что в генеральной совокупности IQ распределен нормально. Найдите доверительный интервал для математического ожидания с надежностью 0.95**"
   ]
  },
  {
   "cell_type": "markdown",
   "id": "funded-precipitation",
   "metadata": {},
   "source": [
    "Из условия задачи:<br>\n",
    "$n = 10$<br>\n",
    "$\\alpha = 1 - p = 1 - 0,95 = 0,05 $\n"
   ]
  },
  {
   "cell_type": "markdown",
   "id": "cheap-position",
   "metadata": {},
   "source": [
    "Расчитаем среднее арифметическое для выборки $\\overline{X}$:"
   ]
  },
  {
   "cell_type": "code",
   "execution_count": 4,
   "id": "pediatric-association",
   "metadata": {},
   "outputs": [
    {
     "data": {
      "text/plain": [
       "118.1"
      ]
     },
     "execution_count": 4,
     "metadata": {},
     "output_type": "execute_result"
    }
   ],
   "source": [
    "X = np.array([131, 125, 115, 122, 131, 115, 107, 99, 125, 111])\n",
    "x=X.mean()\n",
    "x"
   ]
  },
  {
   "cell_type": "markdown",
   "id": "usual-tower",
   "metadata": {},
   "source": [
    "Расчитаем среднее квадратичное отклонение по выборке (несмещенное) $s_0$:"
   ]
  },
  {
   "cell_type": "code",
   "execution_count": 5,
   "id": "waiting-transmission",
   "metadata": {},
   "outputs": [
    {
     "data": {
      "text/plain": [
       "10.54566788359614"
      ]
     },
     "execution_count": 5,
     "metadata": {},
     "output_type": "execute_result"
    }
   ],
   "source": [
    "s0=np.std(X, ddof=1)\n",
    "s0"
   ]
  },
  {
   "cell_type": "markdown",
   "id": "loved-contact",
   "metadata": {},
   "source": [
    "Если неизвестно среднее квадратическое отклонение генеральной совокупности, то используем t-критерий: $T_{1,2} = \\overline{X} \\pm t_{\\frac{\\alpha}{2}} \\cdot \\frac{s_0}{\\sqrt{n}}$<br>\n",
    "Согласно t-таблице, для $\\alpha = 0,025$ и числа степеней свободы равному $n-1 = 9$ значение $t = 2,262$"
   ]
  },
  {
   "cell_type": "code",
   "execution_count": 6,
   "id": "driving-contrary",
   "metadata": {},
   "outputs": [
    {
     "name": "stdout",
     "output_type": "stream",
     "text": [
      "T1 = 110.55660776308164; T2 = 125.64339223691834\n"
     ]
    }
   ],
   "source": [
    "t1=x-2.262*s0/np.sqrt(10)\n",
    "t2=x+2.262*s0/np.sqrt(10)\n",
    "print(f'T1 = {t1}; T2 = {t2}')"
   ]
  },
  {
   "cell_type": "markdown",
   "id": "developing-european",
   "metadata": {},
   "source": [
    "***Ответ: $T_{1} = 110.55660776308164; T_{2} = 125.64339223691834$***"
   ]
  },
  {
   "cell_type": "markdown",
   "id": "exterior-victoria",
   "metadata": {},
   "source": [
    "**3. Известно, что рост футболистов в сборной распределен нормально с дисперсией генеральной совокупности, равной 25 кв.см. Объем выборки равен 27, среднее выборочное составляет 174.2. Найдите доверительный интервал для математического ожидания с надежностью 0.95.**"
   ]
  },
  {
   "cell_type": "markdown",
   "id": "numerous-wells",
   "metadata": {},
   "source": [
    "Из условия задачи:<br>\n",
    "$n = 27$<br>\n",
    "$\\sigma^2 = 25$<br>\n",
    "$\\mu = 174.2$<br>\n",
    "$\\alpha = 1 - p = 1 - 0,95 = 0,05 $\n"
   ]
  },
  {
   "cell_type": "markdown",
   "id": "digital-cincinnati",
   "metadata": {},
   "source": [
    "Так как среднекваlратичное у нас известно, $\\sigma = \\sqrt{\\sigma^2} = \\sqrt{25} = 5$ воспользуемся Z-критерием:<br>\n",
    "### $Z_{\\frac{\\alpha}{2}} = Z_{0,025} = -1,96$ ###"
   ]
  },
  {
   "cell_type": "markdown",
   "id": "revised-covering",
   "metadata": {},
   "source": [
    "Выполним расчет границ доверительного интервала по формуле:<br>\n",
    "$T_{1,2} = \\overline{X} \\pm Z_{\\frac{\\alpha}{2}} \\cdot \\frac{\\sigma}{\\sqrt{n}}$"
   ]
  },
  {
   "cell_type": "code",
   "execution_count": 7,
   "id": "brown-respect",
   "metadata": {},
   "outputs": [
    {
     "name": "stdout",
     "output_type": "stream",
     "text": [
      "T1 = 172.31398912064722; T2 = 176.08601087935276\n"
     ]
    }
   ],
   "source": [
    "t1 = 174.2 - 1.96 * 5 /np.sqrt(27)\n",
    "t2 = 174.2 + 1.96 * 5 /np.sqrt(27)\n",
    "print(f'T1 = {t1}; T2 = {t2}')"
   ]
  },
  {
   "cell_type": "markdown",
   "id": "million-passion",
   "metadata": {},
   "source": [
    "***Ответ: $T_1 = 172.31398912064722; T_2 = 176.08601087935276$***"
   ]
  },
  {
   "cell_type": "code",
   "execution_count": null,
   "id": "brave-helmet",
   "metadata": {},
   "outputs": [],
   "source": []
  }
 ],
 "metadata": {
  "kernelspec": {
   "display_name": "Python 3",
   "language": "python",
   "name": "python3"
  },
  "language_info": {
   "codemirror_mode": {
    "name": "ipython",
    "version": 3
   },
   "file_extension": ".py",
   "mimetype": "text/x-python",
   "name": "python",
   "nbconvert_exporter": "python",
   "pygments_lexer": "ipython3",
   "version": "3.8.5"
  }
 },
 "nbformat": 4,
 "nbformat_minor": 5
}
