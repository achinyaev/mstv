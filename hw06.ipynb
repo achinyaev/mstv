{
 "cells": [
  {
   "cell_type": "markdown",
   "id": "deadly-cargo",
   "metadata": {},
   "source": [
    "### Домашнее задание №6 ###"
   ]
  },
  {
   "cell_type": "markdown",
   "id": "limited-world",
   "metadata": {},
   "source": [
    "**Взаимосвязь величин. Параметрические и непараметрические показатели корреляции. Корреляционный анализ.**"
   ]
  },
  {
   "cell_type": "markdown",
   "id": "ultimate-minnesota",
   "metadata": {},
   "source": [
    "**1. Даны значения величины заработной платы заемщиков банка (zp) и значения их поведенческого кредитного скоринга (ks):<br>\n",
    "zp = [35, 45, 190, 200, 40, 70, 54, 150, 120, 110];<br>\n",
    "ks = [401, 574, 874, 919, 459, 739, 653, 902, 746, 832].<br>\n",
    "Найдите ковариацию этих двух величин с помощью элементарных действий, а затем с помощью функции cov из numpy. Полученные значения должны быть равны.<br>\n",
    "Найдите коэффициент корреляции Пирсона с помощью ковариации и среднеквадратичных отклонений двух признаков, а затем с использованием функций из библиотек numpy и pandas.**"
   ]
  },
  {
   "cell_type": "code",
   "execution_count": 19,
   "id": "pursuant-weather",
   "metadata": {},
   "outputs": [
    {
     "name": "stdout",
     "output_type": "stream",
     "text": [
      "Ковариация с помощью элементарных действий: 9157.839999999997\n",
      "Ковариация с помощью библиотеки numpy: 9157.84\n"
     ]
    }
   ],
   "source": [
    "import numpy as np\n",
    "import pandas as pd\n",
    "\n",
    "zp = [35, 45, 190, 200, 40, 70, 54, 150, 120, 110]\n",
    "ks = [401, 574, 874, 919, 459, 739, 653, 902, 746, 832]\n",
    "\n",
    "\n",
    "sum_salary = 0\n",
    "for item in zp:\n",
    "    sum_salary+= item\n",
    "\n",
    "\n",
    "sum_cs = 0\n",
    "for item in ks:\n",
    "    sum_cs+= item\n",
    "    \n",
    "\n",
    "sum_zp_cs=0\n",
    "for ind in range(len(zp)):\n",
    "    sum_zp_cs+=zp[ind]*ks[ind]\n",
    "\n",
    "salary_mean = sum_salary/len(zp)\n",
    "credscore_mean = sum_cs/len(ks)\n",
    "salary_credscore_mean = sum_zp_cs/len(zp)\n",
    "\n",
    "cov_math = salary_credscore_mean - salary_mean*credscore_mean\n",
    "print(f\"Ковариация с помощью элементарных действий: {cov_math}\")\n",
    "\n",
    "cov_numpy = np.cov(np.array(zp), np.array(ks), ddof=0)\n",
    "print(f'Ковариация с помощью библиотеки numpy: {cov_numpy[1][0]}')\n",
    "\n"
   ]
  },
  {
   "cell_type": "code",
   "execution_count": 25,
   "id": "derived-fairy",
   "metadata": {},
   "outputs": [
    {
     "name": "stdout",
     "output_type": "stream",
     "text": [
      "Коэффициент корреляции Пирсона с помощью элементарных действий: 0.8874900920739158\n",
      "Коэффициент корреляции Пирсона с помощью библиотеки numpy: 0.887490092073916\n"
     ]
    }
   ],
   "source": [
    "sum_salary = 0\n",
    "for item in zp:\n",
    "    sum_salary+= (item-salary_mean)**2\n",
    "\n",
    "sum_cs = 0\n",
    "for item in ks:\n",
    "    sum_cs+= (item-credscore_mean)**2\n",
    "    \n",
    "sigma_salary = (sum_salary/len(zp))**0.5\n",
    "sigma_credscore = (sum_cs/len(ks))**0.5\n",
    "\n",
    "corr_coeff = cov_math/(sigma_salary*sigma_credscore)\n",
    "\n",
    "print(f\"Коэффициент корреляции Пирсона с помощью элементарных действий: {corr_coeff}\")\n",
    "\n",
    "corr_coeff_np = np.corrcoef(np.array(zp), np.array(ks))\n",
    "\n",
    "print(f\"Коэффициент корреляции Пирсона с помощью библиотеки numpy: {corr_coeff_np[1][0]}\")"
   ]
  },
  {
   "cell_type": "markdown",
   "id": "renewable-favorite",
   "metadata": {},
   "source": [
    "***Ответ: расхождения между значениями незначительные***"
   ]
  },
  {
   "cell_type": "markdown",
   "id": "great-recognition",
   "metadata": {},
   "source": [
    "**2. Измерены значения IQ выборки студентов, обучающихся в местных технических вузах: 131, 125, 115, 122, 131, 115, 107, 99, 125, 111. Известно, что в генеральной совокупности IQ распределен нормально. Найдите доверительный интервал для математического ожидания с надежностью 0.95"
   ]
  }
 ],
 "metadata": {
  "kernelspec": {
   "display_name": "Python 3",
   "language": "python",
   "name": "python3"
  },
  "language_info": {
   "codemirror_mode": {
    "name": "ipython",
    "version": 3
   },
   "file_extension": ".py",
   "mimetype": "text/x-python",
   "name": "python",
   "nbconvert_exporter": "python",
   "pygments_lexer": "ipython3",
   "version": "3.8.5"
  }
 },
 "nbformat": 4,
 "nbformat_minor": 5
}
