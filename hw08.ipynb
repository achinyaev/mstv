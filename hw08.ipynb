{
 "cells": [
  {
   "cell_type": "markdown",
   "id": "capable-syndication",
   "metadata": {},
   "source": [
    "### Домашнее задание №8. ###\n",
    "**Дисперсионный анализ. Логистическая регрессия**"
   ]
  },
  {
   "cell_type": "markdown",
   "id": "supported-norwegian",
   "metadata": {},
   "source": [
    "**1. Провести дисперсионный анализ для определения того, есть ли различия среднего роста среди взрослых футболистов, хоккеистов и штангистов. Даны значения роста в трех группах случайно выбранных спортсменов: Футболисты: 173, 175, 180, 178, 177, 185, 183, 182. Хоккеисты: 177, 179, 180, 188, 177, 172, 171, 184, 180. Штангисты: 172, 173, 169, 177, 166, 180, 178, 177, 172, 166, 170**"
   ]
  },
  {
   "cell_type": "code",
   "execution_count": 1,
   "id": "spectacular-gibson",
   "metadata": {},
   "outputs": [],
   "source": [
    "import numpy as np\n",
    "y1 = np.array([173, 175, 180, 178, 177, 185, 183, 182])\n",
    "y2 = np.array([177, 179, 180, 188, 177, 172, 171, 184, 180])\n",
    "y3 = np.array([172, 173, 169, 177, 166, 180, 178, 177, 172, 166, 170])\n",
    "k = 3\n",
    "n1 = len(y1)\n",
    "n2 = len(y2)\n",
    "n3 = len(y3)\n",
    "n = n1 + n2 + n3\n"
   ]
  },
  {
   "cell_type": "code",
   "execution_count": 2,
   "id": "stable-housing",
   "metadata": {},
   "outputs": [
    {
     "data": {
      "text/plain": [
       "(array([173, 175, 180, 178, 177, 185, 183, 182]),\n",
       " array([177, 179, 180, 188, 177, 172, 171, 184, 180]),\n",
       " array([172, 173, 169, 177, 166, 180, 178, 177, 172, 166, 170]))"
      ]
     },
     "execution_count": 2,
     "metadata": {},
     "output_type": "execute_result"
    }
   ],
   "source": [
    "y1, y2, y3"
   ]
  },
  {
   "cell_type": "code",
   "execution_count": 3,
   "id": "distributed-absence",
   "metadata": {},
   "outputs": [
    {
     "data": {
      "text/plain": [
       "28"
      ]
     },
     "execution_count": 3,
     "metadata": {},
     "output_type": "execute_result"
    }
   ],
   "source": [
    "n"
   ]
  },
  {
   "cell_type": "code",
   "execution_count": 4,
   "id": "extreme-counter",
   "metadata": {},
   "outputs": [
    {
     "name": "stdout",
     "output_type": "stream",
     "text": [
      "Средний рост для каждой группы\n",
      "Средний рост футболистов: 179.125\n",
      "Средний рост хоккеистов: 178.66666666666666\n",
      "Средний рост штангистов: 172.72727272727272\n"
     ]
    }
   ],
   "source": [
    "print('Средний рост для каждой группы')\n",
    "y1_mean = y1.mean()\n",
    "y2_mean = y2.mean()\n",
    "y3_mean = y3.mean()\n",
    "print(f\"Средний рост футболистов: {y1_mean}\")\n",
    "print(f\"Средний рост хоккеистов: {y2_mean}\")\n",
    "print(f\"Средний рост штангистов: {y3_mean}\")"
   ]
  },
  {
   "cell_type": "markdown",
   "id": "pleased-frame",
   "metadata": {},
   "source": [
    "Средний рост для каждой группы разнится.  Установим, что это отличие статистически значимо. Для этого сначала соберем\n",
    "\n",
    "все значения заработных плат в один массив:"
   ]
  },
  {
   "cell_type": "code",
   "execution_count": 5,
   "id": "imposed-wound",
   "metadata": {},
   "outputs": [
    {
     "data": {
      "text/plain": [
       "array([173, 175, 180, 178, 177, 185, 183, 182, 177, 179, 180, 188, 177,\n",
       "       172, 171, 184, 180, 172, 173, 169, 177, 166, 180, 178, 177, 172,\n",
       "       166, 170])"
      ]
     },
     "execution_count": 5,
     "metadata": {},
     "output_type": "execute_result"
    }
   ],
   "source": [
    "y_all = np.concatenate([y1, y2, y3])\n",
    "y_all"
   ]
  },
  {
   "cell_type": "code",
   "execution_count": 6,
   "id": "miniature-consensus",
   "metadata": {},
   "outputs": [
    {
     "name": "stdout",
     "output_type": "stream",
     "text": [
      "Найдем среднее по всем значениям: 176.46428571428572\n"
     ]
    }
   ],
   "source": [
    "y_mean = y_all.mean()\n",
    "print(f\"Найдем среднее по всем значениям: {y_mean}\")"
   ]
  },
  {
   "cell_type": "code",
   "execution_count": 7,
   "id": "aging-sender",
   "metadata": {},
   "outputs": [
    {
     "name": "stdout",
     "output_type": "stream",
     "text": [
      "Найдем сумму квадратов отклонений наблюдений от общего среднего:830.9642857142854\n"
     ]
    }
   ],
   "source": [
    "s2 = np.sum((y_all - y_mean)**2)\n",
    "print(f\"Найдем сумму квадратов отклонений наблюдений от общего среднего:{s2}\")"
   ]
  },
  {
   "cell_type": "code",
   "execution_count": 8,
   "id": "italic-soviet",
   "metadata": {},
   "outputs": [
    {
     "name": "stdout",
     "output_type": "stream",
     "text": [
      "Cумма квадратов отклонений средних групповых значений от общего среднего:253.9074675324678\n"
     ]
    }
   ],
   "source": [
    "sf2 = ((y1_mean - y_mean)**2) * n1 + ((y2_mean - y_mean)**2) * n2 + ((y3_mean - y_mean)**2) * n3\n",
    "print(f\"Cумма квадратов отклонений средних групповых значений от общего среднего:{sf2}\")"
   ]
  },
  {
   "cell_type": "code",
   "execution_count": 9,
   "id": "unable-robert",
   "metadata": {},
   "outputs": [
    {
     "name": "stdout",
     "output_type": "stream",
     "text": [
      "Остаточная сумма квадратов отклонений:577.0568181818181\n"
     ]
    }
   ],
   "source": [
    "so2 = 0\n",
    "for item in y1:\n",
    "    so2 += (item - y1.mean())**2\n",
    "for item in y2:\n",
    "    so2 += (item - y2.mean())**2\n",
    "for item in y3:\n",
    "    so2 += (item - y3.mean())**2\n",
    "print(f\"Остаточная сумма квадратов отклонений:{so2}\")"
   ]
  },
  {
   "cell_type": "markdown",
   "id": "lovely-tourist",
   "metadata": {},
   "source": [
    "Проверим уравнение: $S^2 = S_F^2 + S_{ост}^2$"
   ]
  },
  {
   "cell_type": "code",
   "execution_count": 10,
   "id": "optional-pitch",
   "metadata": {},
   "outputs": [
    {
     "name": "stdout",
     "output_type": "stream",
     "text": [
      "830.9642857142854 = 830.9642857142859\n"
     ]
    }
   ],
   "source": [
    "print(f\"{s2} = {sf2 + so2}\")"
   ]
  },
  {
   "cell_type": "markdown",
   "id": "aware-canal",
   "metadata": {},
   "source": [
    "Найдем общую дисперсию:"
   ]
  },
  {
   "cell_type": "code",
   "execution_count": 11,
   "id": "martial-income",
   "metadata": {},
   "outputs": [
    {
     "data": {
      "text/plain": [
       "30.776455026455015"
      ]
     },
     "execution_count": 11,
     "metadata": {},
     "output_type": "execute_result"
    }
   ],
   "source": [
    "sigma2_general = s2 / (n - 1)\n",
    "sigma2_general"
   ]
  },
  {
   "cell_type": "code",
   "execution_count": 12,
   "id": "passing-assembly",
   "metadata": {},
   "outputs": [
    {
     "name": "stdout",
     "output_type": "stream",
     "text": [
      "Найдем факторную дисперсию:\n",
      "126.9537337662339\n"
     ]
    }
   ],
   "source": [
    "sigma2_f = sf2 / (k - 1)\n",
    "\n",
    "print(f\"Найдем факторную дисперсию:\\n{sigma2_f}\")"
   ]
  },
  {
   "cell_type": "code",
   "execution_count": 13,
   "id": "applicable-madonna",
   "metadata": {},
   "outputs": [
    {
     "name": "stdout",
     "output_type": "stream",
     "text": [
      "Найдем остаточную дисперсию:\n",
      "23.082272727272724\n"
     ]
    }
   ],
   "source": [
    "sigma2_residual = so2 / (n - k)\n",
    "\n",
    "print(f\"Найдем остаточную дисперсию:\\n{sigma2_residual}\")"
   ]
  },
  {
   "cell_type": "code",
   "execution_count": 14,
   "id": "everyday-train",
   "metadata": {},
   "outputs": [
    {
     "name": "stdout",
     "output_type": "stream",
     "text": [
      "Расчетаем значение критерия Фишера-Снедекора:\n",
      "5.500053450812599\n"
     ]
    }
   ],
   "source": [
    "F_h = sigma2_f / sigma2_residual\n",
    "\n",
    "print(f\"Расчетаем значение критерия Фишера-Снедекора:\\n{F_h}\")"
   ]
  },
  {
   "cell_type": "markdown",
   "id": "comparative-gardening",
   "metadata": {},
   "source": [
    "Найдем значение $F_{крит}$ в таблице критических точек распределения Фишера-Снедекора для заданного уровня значимости $\\alpha = 0.05$ и двух степеней свободы: \n",
    "\n",
    "$df_{межд} = k - 1 = 3 - 1 = 2$ и $df_{внутр} = n - k = 28 - 3 = 25$.\n",
    "\n",
    "будет равно $F_{крит} = 3,38$\n",
    "\n",
    "Так как $F_H > F_{крит}$, различие среднего роста в трех группах статистически значимо."
   ]
  },
  {
   "cell_type": "markdown",
   "id": "visible-sharp",
   "metadata": {},
   "source": [
    "Вычислим эмпирическое корреляционное отношение $\\eta^2$:"
   ]
  },
  {
   "cell_type": "code",
   "execution_count": 15,
   "id": "formed-dealer",
   "metadata": {},
   "outputs": [
    {
     "name": "stdout",
     "output_type": "stream",
     "text": [
      "Эмпирическое корреляционное отношение:\n",
      "0.30555761769498\n"
     ]
    }
   ],
   "source": [
    "eta2 = sf2 / s2\n",
    "\n",
    "print(f\"Эмпирическое корреляционное отношение:\\n{eta2}\")"
   ]
  },
  {
   "cell_type": "markdown",
   "id": "dense-puzzle",
   "metadata": {},
   "source": [
    "Проверим наше расченое значение критерия Фишера-Снедекора с значением полученным с помощью автоматичиской функции для однофакторного анализа"
   ]
  },
  {
   "cell_type": "code",
   "execution_count": 16,
   "id": "cross-alaska",
   "metadata": {},
   "outputs": [
    {
     "data": {
      "text/plain": [
       "F_onewayResult(statistic=5.500053450812596, pvalue=0.010482206918698694)"
      ]
     },
     "execution_count": 16,
     "metadata": {},
     "output_type": "execute_result"
    }
   ],
   "source": [
    "from scipy import stats\n",
    "stats.f_oneway(y1, y2, y3)"
   ]
  },
  {
   "cell_type": "markdown",
   "id": "tutorial-africa",
   "metadata": {},
   "source": [
    "**Ответ: После проверок  можно считать что мы правильно произели расчет. Различие среднего роста в трех группах статистически значимо. Различие среднего роста статистически значимо до уровня значимости не менее 0.010482206918698694.**"
   ]
  },
  {
   "cell_type": "code",
   "execution_count": null,
   "id": "exceptional-january",
   "metadata": {},
   "outputs": [],
   "source": []
  }
 ],
 "metadata": {
  "kernelspec": {
   "display_name": "Python 3",
   "language": "python",
   "name": "python3"
  },
  "language_info": {
   "codemirror_mode": {
    "name": "ipython",
    "version": 3
   },
   "file_extension": ".py",
   "mimetype": "text/x-python",
   "name": "python",
   "nbconvert_exporter": "python",
   "pygments_lexer": "ipython3",
   "version": "3.8.5"
  }
 },
 "nbformat": 4,
 "nbformat_minor": 5
}
