{
 "cells": [
  {
   "cell_type": "markdown",
   "id": "bright-compilation",
   "metadata": {},
   "source": [
    "### Домашнее задание №7###"
   ]
  },
  {
   "cell_type": "markdown",
   "id": "center-field",
   "metadata": {},
   "source": [
    "**Многомерный статистический анализ. Линейная регрессия**"
   ]
  },
  {
   "cell_type": "markdown",
   "id": "isolated-bermuda",
   "metadata": {},
   "source": [
    "**1. Даны значения величины заработной платы заемщиков банка (zp) и значения их поведенческого кредитного скоринга (ks): zp = [35, 45, 190, 200, 40, 70, 54, 150, 120, 110], ks = [401, 574, 874, 919, 459, 739, 653, 902, 746, 832]. Используя математические операции, посчитать коэффициенты линейной регрессии, приняв за X заработную плату (то есть, zp - признак), а за y - значения скорингового балла (то есть, ks - целевая переменная). Произвести расчет как с использованием intercept, так и без.**"
   ]
  },
  {
   "cell_type": "code",
   "execution_count": 40,
   "id": "palestinian-default",
   "metadata": {},
   "outputs": [],
   "source": [
    "import numpy as np\n",
    "import matplotlib.pyplot as plt\n",
    "salary = np.array([35, 45, 190, 200, 40, 70, 54, 150, 120, 110])\n",
    "c_score = np.array([401, 574, 874, 919, 459, 739, 653, 902, 746, 832])\n",
    "\n",
    "x = salary \n",
    "y = c_score\n",
    "x.sort()\n",
    "y.sort()"
   ]
  },
  {
   "cell_type": "code",
   "execution_count": 41,
   "id": "veterinary-boring",
   "metadata": {},
   "outputs": [
    {
     "data": {
      "text/plain": [
       "2.6771970789551993"
      ]
     },
     "execution_count": 41,
     "metadata": {},
     "output_type": "execute_result"
    }
   ],
   "source": [
    "b = (np.mean(x * y) - np.mean(x) * np.mean(y)) / (np.mean(x**2) - np.mean(x) ** 2)\n",
    "b"
   ]
  },
  {
   "cell_type": "code",
   "execution_count": 42,
   "id": "regulated-authentication",
   "metadata": {},
   "outputs": [
    {
     "data": {
      "text/plain": [
       "438.43221619394274"
      ]
     },
     "execution_count": 42,
     "metadata": {},
     "output_type": "execute_result"
    }
   ],
   "source": [
    "a = np.mean(y) - b * np.mean(x)\n",
    "a"
   ]
  },
  {
   "cell_type": "code",
   "execution_count": 54,
   "id": "negative-choir",
   "metadata": {},
   "outputs": [
    {
     "name": "stdout",
     "output_type": "stream",
     "text": [
      "\tX\tY\n",
      "1\t35\t532.1341139573747\t401\t-131.13411395737467\n",
      "2\t40\t545.5200993521507\t459\t-86.52009935215074\n",
      "3\t45\t558.9060847469267\t574\t15.093915253073305\n",
      "4\t54\t583.0008584575235\t653\t69.99914154247654\n",
      "5\t70\t625.8360117208067\t739\t113.16398827919329\n",
      "6\t110\t732.9238948790146\t746\t13.076105120985403\n",
      "7\t120\t759.6958656685666\t832\t72.30413433143337\n",
      "8\t150\t840.0117780372227\t874\t33.98822196277729\n",
      "9\t190\t947.0996611954306\t902\t-45.0996611954306\n",
      "10\t200\t973.8716319849826\t919\t-54.87163198498263\n"
     ]
    }
   ],
   "source": [
    "print(f'\\tX\\tY')\n",
    "for ind in range(len(salary)):\n",
    "    print(f'{ind+1}\\t{x[ind]}\\t{a+x[ind]*b}\\t{y[ind]}\\t{y[ind]-(a+x[ind]*b)}')"
   ]
  },
  {
   "cell_type": "code",
   "execution_count": 45,
   "id": "suspected-leave",
   "metadata": {},
   "outputs": [
    {
     "data": {
      "text/plain": [
       "<function matplotlib.pyplot.show(close=None, block=None)>"
      ]
     },
     "execution_count": 45,
     "metadata": {},
     "output_type": "execute_result"
    },
    {
     "data": {
      "image/png": "[encoded data removed]",
      "text/plain": [
       "<Figure size 432x288 with 1 Axes>"
      ]
     },
     "metadata": {
      "needs_background": "light"
     },
     "output_type": "display_data"
    }
   ],
   "source": [
    "plt.scatter(x,y)\n",
    "plt.plot(x,a+x*b)\n",
    "plt.plot(x,x*b)\n",
    "plt.show\n"
   ]
  },
  {
   "cell_type": "code",
   "execution_count": 56,
   "id": "enclosed-desktop",
   "metadata": {},
   "outputs": [
    {
     "data": {
      "text/plain": [
       "5421.462480827783"
      ]
     },
     "execution_count": 56,
     "metadata": {},
     "output_type": "execute_result"
    }
   ],
   "source": [
    "mse=((y-a-x*b)**2).sum()/10\n",
    "mse"
   ]
  },
  {
   "cell_type": "code",
   "execution_count": 58,
   "id": "designing-midnight",
   "metadata": {},
   "outputs": [
    {
     "data": {
      "text/plain": [
       "10.551662134357242"
      ]
     },
     "execution_count": 58,
     "metadata": {},
     "output_type": "execute_result"
    }
   ],
   "source": [
    "A_mean = 100 * np.mean(np.abs((y - (a+x*b)) / y))\n",
    "A_mean"
   ]
  },
  {
   "cell_type": "code",
   "execution_count": 64,
   "id": "nasty-progress",
   "metadata": {},
   "outputs": [
    {
     "data": {
      "text/plain": [
       "(0.9066783546151524, 0.8220656387276402)"
      ]
     },
     "execution_count": 64,
     "metadata": {},
     "output_type": "execute_result"
    }
   ],
   "source": [
    "r = b * np.std(x) / np.std(y)\n",
    "R= r**2\n",
    "r,R"
   ]
  },
  {
   "cell_type": "markdown",
   "id": "constant-girlfriend",
   "metadata": {},
   "source": [
    "**2. Посчитать коэффициент линейной регрессии при заработной плате (zp), используя градиентный спуск (без intercept).**"
   ]
  },
  {
   "cell_type": "code",
   "execution_count": null,
   "id": "temporal-panama",
   "metadata": {},
   "outputs": [],
   "source": []
  },
  {
   "cell_type": "code",
   "execution_count": null,
   "id": "broken-obligation",
   "metadata": {},
   "outputs": [],
   "source": []
  },
  {
   "cell_type": "code",
   "execution_count": null,
   "id": "polish-confidentiality",
   "metadata": {},
   "outputs": [],
   "source": []
  },
  {
   "cell_type": "code",
   "execution_count": null,
   "id": "usual-connectivity",
   "metadata": {},
   "outputs": [],
   "source": []
  },
  {
   "cell_type": "markdown",
   "id": "olive-petroleum",
   "metadata": {},
   "source": [
    "**3*. Произвести вычисления как в пункте 2, но с вычислением intercept. Учесть, что изменение коэффициентов должно производиться на каждом шаге одновременно (то есть изменение одного коэффициента не должно влиять на изменение другого во время одной итерации).**"
   ]
  },
  {
   "cell_type": "code",
   "execution_count": null,
   "id": "smooth-negotiation",
   "metadata": {},
   "outputs": [],
   "source": []
  }
 ],
 "metadata": {
  "kernelspec": {
   "display_name": "Python 3",
   "language": "python",
   "name": "python3"
  },
  "language_info": {
   "codemirror_mode": {
    "name": "ipython",
    "version": 3
   },
   "file_extension": ".py",
   "mimetype": "text/x-python",
   "name": "python",
   "nbconvert_exporter": "python",
   "pygments_lexer": "ipython3",
   "version": "3.8.5"
  }
 },
 "nbformat": 4,
 "nbformat_minor": 5
}
