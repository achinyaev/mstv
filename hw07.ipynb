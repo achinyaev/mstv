{
 "cells": [
  {
   "cell_type": "markdown",
   "metadata": {},
   "source": [
    "### Домашнее задание №7###"
   ]
  },
  {
   "cell_type": "markdown",
   "metadata": {},
   "source": [
    "**Многомерный статистический анализ. Линейная регрессия**"
   ]
  },
  {
   "cell_type": "markdown",
   "metadata": {},
   "source": [
    "**1. Даны значения величины заработной платы заемщиков банка (zp) и значения их поведенческого кредитного скоринга (ks): zp = [35, 45, 190, 200, 40, 70, 54, 150, 120, 110], ks = [401, 574, 874, 919, 459, 739, 653, 902, 746, 832]. Используя математические операции, посчитать коэффициенты линейной регрессии, приняв за X заработную плату (то есть, zp - признак), а за y - значения скорингового балла (то есть, ks - целевая переменная). Произвести расчет как с использованием intercept, так и без.**"
   ]
  },
  {
   "cell_type": "code",
   "execution_count": 1,
   "metadata": {},
   "outputs": [],
   "source": [
    "import numpy as np\n",
    "import matplotlib.pyplot as plt\n",
    "salary = np.array([35, 45, 190, 200, 40, 70, 54, 150, 120, 110])\n",
    "c_score = np.array([401, 574, 874, 919, 459, 739, 653, 902, 746, 832])\n"
   ]
  },
  {
   "cell_type": "code",
   "execution_count": 2,
   "metadata": {},
   "outputs": [
    {
     "data": {
      "text/plain": [
       "5.889820420132688"
      ]
     },
     "execution_count": 2,
     "metadata": {},
     "output_type": "execute_result"
    }
   ],
   "source": [
    "x = salary.reshape(10,1)\n",
    "y = c_score.reshape(10,1)\n",
    "\n",
    "b = np.dot(np.linalg.inv(np.dot(x.T, x)), x.T@y)[0,0]\n",
    "b"
   ]
  },
  {
   "cell_type": "code",
   "execution_count": 3,
   "metadata": {},
   "outputs": [
    {
     "data": {
      "text/plain": [
       "(444.1773573243596, 2.620538882402765)"
      ]
     },
     "execution_count": 3,
     "metadata": {},
     "output_type": "execute_result"
    }
   ],
   "source": [
    "# расчет с intercept\n",
    "x = salary\n",
    "y = c_score\n",
    "bb = (np.mean(x * y) - np.mean(x) * np.mean(y)) / (np.mean(x**2) - np.mean(x) ** 2)\n",
    "a = np.mean(y) - bb * np.mean(x)\n",
    "a,bb"
   ]
  },
  {
   "cell_type": "code",
   "execution_count": 4,
   "metadata": {},
   "outputs": [
    {
     "name": "stdout",
     "output_type": "stream",
     "text": [
      "\tX\tY\tY_pred\t\t\tY_pred_intercept\n",
      "1\t35\t401\t206.14371470464408\t535.8962182084564\n",
      "2\t45\t574\t265.041918905971\t562.101607032484\n",
      "3\t190\t874\t1119.0658798252107\t942.0797449808849\n",
      "4\t200\t919\t1177.9640840265376\t968.2851338049126\n",
      "5\t40\t459\t235.5928168053075\t548.9989126204703\n",
      "6\t70\t739\t412.28742940928817\t627.6150790925532\n",
      "7\t54\t653\t318.05030268716513\t585.686456974109\n",
      "8\t150\t902\t883.4730630199032\t837.2581896847744\n",
      "9\t120\t746\t706.7784504159225\t758.6420232126914\n",
      "10\t110\t832\t647.8802462145957\t732.4366343886637\n"
     ]
    }
   ],
   "source": [
    "print(f'\\tX\\tY\\tY_pred\\t\\t\\tY_pred_intercept')\n",
    "for ind in range(len(salary)):\n",
    "    print(f'{ind+1}\\t{x[ind]}\\t{y[ind]}\\t{x[ind]*b}\\t{a+x[ind]*bb}')"
   ]
  },
  {
   "cell_type": "code",
   "execution_count": 5,
   "metadata": {},
   "outputs": [
    {
     "data": {
      "text/plain": [
       "<function matplotlib.pyplot.show(close=None, block=None)>"
      ]
     },
     "execution_count": 5,
     "metadata": {},
     "output_type": "execute_result"
    },
    {
     "data": {
      "image/png": "[encoded data removed]",
      "text/plain": [
       "<Figure size 432x288 with 1 Axes>"
      ]
     },
     "metadata": {
      "needs_background": "light"
     },
     "output_type": "display_data"
    }
   ],
   "source": [
    "plt.scatter(x,y)\n",
    "plt.plot(x,a+x*bb, label='Лин.регрессия с intercept')\n",
    "plt.plot(x,x*b, label='Лин.регрессия с non-intercept')\n",
    "plt.xlabel('Salary')\n",
    "plt.ylabel('Credit score')\n",
    "plt.legend(loc=4,fontsize='small')\n",
    "plt.grid(True)\n",
    "plt.show\n"
   ]
  },
  {
   "cell_type": "code",
   "execution_count": 6,
   "metadata": {},
   "outputs": [
    {
     "data": {
      "text/plain": [
       "(6470.41420117666, 56516.8584157194)"
      ]
     },
     "execution_count": 6,
     "metadata": {},
     "output_type": "execute_result"
    }
   ],
   "source": [
    "mse=((y-a-x*bb)**2).sum()/10\n",
    "mse2=((y-x*b)**2).sum()/10\n",
    "mse,mse2"
   ]
  },
  {
   "cell_type": "code",
   "execution_count": 7,
   "metadata": {},
   "outputs": [
    {
     "data": {
      "text/plain": [
       "11.46925184356171"
      ]
     },
     "execution_count": 7,
     "metadata": {},
     "output_type": "execute_result"
    }
   ],
   "source": [
    "A_mean = 100 * np.mean(np.abs((y - (a+x*bb)) / y))\n",
    "A_mean"
   ]
  },
  {
   "cell_type": "code",
   "execution_count": 8,
   "metadata": {},
   "outputs": [
    {
     "data": {
      "text/plain": [
       "(0.8874900920739162, 0.7876386635293682)"
      ]
     },
     "execution_count": 8,
     "metadata": {},
     "output_type": "execute_result"
    }
   ],
   "source": [
    "r = bb * np.std(x) / np.std(y)\n",
    "R= r**2\n",
    "r,R"
   ]
  },
  {
   "cell_type": "markdown",
   "metadata": {},
   "source": [
    "**2. Посчитать коэффициент линейной регрессии при заработной плате (zp), используя градиентный спуск (без intercept).**"
   ]
  },
  {
   "cell_type": "code",
   "execution_count": 9,
   "metadata": {},
   "outputs": [],
   "source": [
    "x = salary\n",
    "y = c_score\n",
    "\n",
    "alpha = 1e-6\n",
    "b1 =0.1\n",
    "n=10\n",
    "\n",
    "def mse_func(b1,y=y,x=x,n=10):\n",
    "    return np.sum((b1*x-y)**2)/n"
   ]
  },
  {
   "cell_type": "code",
   "execution_count": 10,
   "metadata": {},
   "outputs": [
    {
     "name": "stdout",
     "output_type": "stream",
     "text": [
      "50.\tb1=4.457772104723629\tmse=84769.3913878718\n",
      "100.\tb1=5.535619041013072\tmse=58245.2515982716\n",
      "150.\tb1=5.802212609962957\tmse=56622.59558967255\n",
      "200.\tb1=5.868151593145588\tmse=56523.327053798086\n",
      "250.\tb1=5.884460874424522\tmse=56517.254144837454\n",
      "300.\tb1=5.888494795528504\tmse=56516.882625071215\n",
      "350.\tb1=5.889492541486457\tmse=56516.85989676461\n",
      "400.\tb1=5.8897393229605965\tmse=56516.85850632468\n",
      "450.\tb1=5.889800361640326\tmse=56516.85842126231\n",
      "500.\tb1=5.889815458885515\tmse=56516.858416058494\n",
      "550.\tb1=5.88981919302284\tmse=56516.85841574016\n",
      "600.\tb1=5.889820116620584\tmse=56516.85841572067\n",
      "650.\tb1=5.889820345062314\tmse=56516.85841571949\n",
      "700.\tb1=5.889820401564859\tmse=56516.85841571943\n",
      "750.\tb1=5.889820415540141\tmse=56516.85841571941\n",
      "800.\tb1=5.889820418996772\tmse=56516.85841571941\n",
      "850.\tb1=5.889820419851732\tmse=56516.85841571941\n",
      "900.\tb1=5.889820420063197\tmse=56516.8584157194\n",
      "950.\tb1=5.889820420115502\tmse=56516.85841571941\n",
      "1000.\tb1=5.889820420128437\tmse=56516.8584157194\n"
     ]
    }
   ],
   "source": [
    "for ind in range(1,1001):\n",
    "    b1 -= alpha*(2/n)*np.sum((b1*x-y)*x)\n",
    "    if ind%50==0:\n",
    "        print(f'{ind}.\\tb1={b1}\\tmse={mse_func(b1)}')"
   ]
  },
  {
   "cell_type": "markdown",
   "metadata": {},
   "source": [
    "**Полученые значения коэффициента $b_1$ можно считать равным расчетным значениям полученным в задании 1**"
   ]
  },
  {
   "cell_type": "markdown",
   "metadata": {},
   "source": [
    "**3*. Произвести вычисления как в пункте 2, но с вычислением intercept. Учесть, что изменение коэффициентов должно производиться на каждом шаге одновременно (то есть изменение одного коэффициента не должно влиять на изменение другого во время одной итерации).**"
   ]
  },
  {
   "cell_type": "code",
   "execution_count": 11,
   "metadata": {},
   "outputs": [],
   "source": [
    "alpha = 1e-6 #шаг alpha и beta подбирается эксперементально \n",
    "beta = 0.02 #шаг alpha и beta подбирается эксперементально \n",
    "b0 = 0\n",
    "b1 = 0.1\n",
    "n=10\n",
    "\n",
    "def mse(b0,b1,y=y,x=x,n=10):\n",
    "    return np.sum((b0+b1*x-y)**2)/n"
   ]
  },
  {
   "cell_type": "code",
   "execution_count": 12,
   "metadata": {},
   "outputs": [
    {
     "name": "stdout",
     "output_type": "stream",
     "text": [
      "50.\tb0=430.8400120255544\tb1=2.4794247919628236\tmse=7304.322300944083\n",
      "100.\tb0=447.2612757369063\tb1=2.583164978086836\tmse=6475.793692082029\n",
      "150.\tb0=447.19222317990415\tb1=2.5937278816119047\tmse=6473.0140048563335\n",
      "200.\tb0=446.6067642372335\tb1=2.5992539430320516\tmse=6472.070945923877\n",
      "250.\tb0=446.1179752169001\tb1=2.603549148107158\tmse=6471.470395228911\n",
      "300.\tb0=445.72685042819666\tb1=2.6069738824438966\tmse=6471.087523904405\n",
      "350.\tb0=445.41452818996083\tb1=2.6097081205552404\tmse=6470.84344332084\n",
      "400.\tb0=445.16515781568745\tb1=2.6118912241483376\tmse=6470.687842330505\n",
      "450.\tb0=444.96605174251835\tb1=2.613634290005498\tmse=6470.5886469571715\n",
      "500.\tb0=444.80707849674195\tb1=2.6150260146582207\tmse=6470.5254100716165\n",
      "550.\tb0=444.6801487043416\tb1=2.616137216232931\tmse=6470.485096662244\n",
      "600.\tb0=444.5788035244707\tb1=2.617024438384056\tmse=6470.459396930814\n",
      "650.\tb0=444.4978859929087\tb1=2.6177328275398835\tmse=6470.443013394768\n",
      "700.\tb0=444.43327860928747\tb1=2.6182984301856904\tmse=6470.432568917786\n",
      "750.\tb0=444.3816938174902\tb1=2.618750027094412\tmse=6470.425910581083\n",
      "800.\tb0=444.34050671788\tb1=2.619110597840463\tmse=6470.421665902506\n",
      "850.\tb0=444.3076214988996\tb1=2.6193984901187237\tmse=6470.418959926971\n",
      "900.\tb0=444.2813647913961\tb1=2.619628353369669\tmse=6470.417234872068\n",
      "950.\tb0=444.26040051898724\tb1=2.619811884218269\tmse=6470.416135152435\n",
      "1000.\tb0=444.2436619116211\tb1=2.619958421658463\tmse=6470.415434083002\n"
     ]
    }
   ],
   "source": [
    "for ind in range(1, 1001):\n",
    "    b0 -= beta*(2/n)*np.sum(b0 + b1*x - y)\n",
    "    b1 -= alpha*(2/n)*np.sum((b0 + b1*x - y)*x)\n",
    "    if ind%50==0:\n",
    "        print(f'{ind}.\\tb0={b0}\\tb1={b1}\\tmse={mse(b0,b1)}')\n"
   ]
  },
  {
   "cell_type": "markdown",
   "metadata": {},
   "source": [
    "**Полученые значения коэффициентов $b_0$ и $b_1$ можно считать равным расчетным значениям полученным в задании 1 для intercept**"
   ]
  },
  {
   "cell_type": "code",
   "execution_count": null,
   "metadata": {},
   "outputs": [],
   "source": []
  }
 ],
 "metadata": {
  "kernelspec": {
   "display_name": "Python 3",
   "language": "python",
   "name": "python3"
  },
  "language_info": {
   "codemirror_mode": {
    "name": "ipython",
    "version": 3
   },
   "file_extension": ".py",
   "mimetype": "text/x-python",
   "name": "python",
   "nbconvert_exporter": "python",
   "pygments_lexer": "ipython3",
   "version": "3.8.5"
  }
 },
 "nbformat": 4,
 "nbformat_minor": 5
}
